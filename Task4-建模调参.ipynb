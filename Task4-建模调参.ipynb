{
 "cells": [
  {
   "cell_type": "markdown",
   "metadata": {},
   "source": [
    "# Task4 建模调参 \n",
    "\n",
    "## 四、建模与调参\n",
    "\n",
    "\n",
    "**赛题：零基础入门数据挖掘 - 二手车交易价格预测**\n",
    "\n",
    "地址：https://tianchi.aliyun.com/competition/entrance/231784/introduction?spm=5176.12281957.1004.1.38b02448ausjSX \n",
    "    "
   ]
  },
  {
   "cell_type": "markdown",
   "metadata": {},
   "source": [
    "## 4.1 学习目标\n",
    "\n",
    "* 了解常用的机器学习模型，并掌握机器学习模型的建模与调参流程\n",
    "* 完成相应学习打卡任务"
   ]
  },
  {
   "cell_type": "markdown",
   "metadata": {},
   "source": [
    "## 4.2 学习内容\n",
    "\n",
    "1. 线性回归模型：\n",
    "    - 线性回归对于特征的要求；\n",
    "    - 处理长尾分布；\n",
    "    - 理解线性回归模型；\n",
    "2. 模型性能验证：\n",
    "    - 评价函数与目标函数；\n",
    "    - 交叉验证方法；\n",
    "    - 留一验证方法；\n",
    "    - 针对时间序列问题的验证；\n",
    "    - 绘制学习率曲线；\n",
    "    - 绘制验证曲线；\n",
    "3. 嵌入式特征选择：\n",
    "    - Lasso回归；\n",
    "    - Ridge回归；\n",
    "    - 决策树；\n",
    "4. 模型对比：\n",
    "    - 常用线性模型；\n",
    "    - 常用非线性模型；\n",
    "5. 模型调参：\n",
    "    - 贪心调参方法；\n",
    "    - 网格调参方法；\n",
    "    - 贝叶斯调参方法；"
   ]
  },
  {
   "cell_type": "markdown",
   "metadata": {},
   "source": [
    "## 4.3 相关原理介绍与推荐\n",
    "\n",
    "由于相关算法原理篇幅较长，本文推荐了一些博客与教材供初学者们进行学习。\n",
    "\n",
    "### 4.3.1 线性回归模型\n",
    "\n",
    "https://zhuanlan.zhihu.com/p/49480391\n",
    "\n",
    "### 4.3.2 决策树模型\n",
    "\n",
    "https://zhuanlan.zhihu.com/p/65304798\n",
    "\n",
    "### 4.3.3 GBDT模型\n",
    "\n",
    "https://zhuanlan.zhihu.com/p/45145899\n",
    "\n",
    "### 4.3.4 XGBoost模型\n",
    "\n",
    "https://zhuanlan.zhihu.com/p/86816771\n",
    "\n",
    "### 4.3.5 LightGBM模型\n",
    "\n",
    "https://zhuanlan.zhihu.com/p/89360721\n",
    "\n",
    "### 4.3.6 推荐教材：\n",
    "\n",
    "   - 《机器学习》 https://book.douban.com/subject/26708119/\n",
    "   - 《统计学习方法》 https://book.douban.com/subject/10590856/\n",
    "   - 《Python大战机器学习》 https://book.douban.com/subject/26987890/\n",
    "   - 《面向机器学习的特征工程》 https://book.douban.com/subject/26826639/\n",
    "   - 《数据科学家访谈录》 https://book.douban.com/subject/30129410/\n"
   ]
  },
  {
   "cell_type": "markdown",
   "metadata": {},
   "source": [
    "## 4.4 运行代码"
   ]
  },
  {
   "cell_type": "markdown",
   "metadata": {},
   "source": [
    "### 4.4.1 读取数据"
   ]
  },
  {
   "cell_type": "markdown",
   "metadata": {},
   "source": [
    "* pip install sklearn\n",
    "\n",
    "* pip install xgboost\n",
    "\n",
    "* pip install lightgbm\n",
    "\n",
    "* pip install bayesian-optimization"
   ]
  },
  {
   "cell_type": "code",
   "execution_count": 71,
   "metadata": {},
   "outputs": [],
   "source": [
    "import pandas as pd\n",
    "import numpy as np\n",
    "import warnings\n",
    "warnings.filterwarnings('ignore')"
   ]
  },
  {
   "cell_type": "markdown",
   "metadata": {},
   "source": [
    "reduce_mem_usage 函数通过调整数据类型，帮助我们减少数据在内存中占用的空间"
   ]
  },
  {
   "cell_type": "code",
   "execution_count": 2,
   "metadata": {},
   "outputs": [],
   "source": [
    "def reduce_mem_usage(df):\n",
    "    \"\"\" iterate through all the columns of a dataframe and modify the data type\n",
    "        to reduce memory usage.        \n",
    "    \"\"\"\n",
    "    start_mem = df.memory_usage().sum() \n",
    "    print('Memory usage of dataframe is {:.2f} MB'.format(start_mem))\n",
    "    \n",
    "    for col in df.columns:\n",
    "        col_type = df[col].dtype\n",
    "        \n",
    "        if col_type != object:\n",
    "            c_min = df[col].min()\n",
    "            c_max = df[col].max()\n",
    "            if str(col_type)[:3] == 'int':\n",
    "                if c_min > np.iinfo(np.int8).min and c_max < np.iinfo(np.int8).max:\n",
    "                    df[col] = df[col].astype(np.int8)\n",
    "                elif c_min > np.iinfo(np.int16).min and c_max < np.iinfo(np.int16).max:\n",
    "                    df[col] = df[col].astype(np.int16)\n",
    "                elif c_min > np.iinfo(np.int32).min and c_max < np.iinfo(np.int32).max:\n",
    "                    df[col] = df[col].astype(np.int32)\n",
    "                elif c_min > np.iinfo(np.int64).min and c_max < np.iinfo(np.int64).max:\n",
    "                    df[col] = df[col].astype(np.int64)  \n",
    "            else:\n",
    "                if c_min > np.finfo(np.float16).min and c_max < np.finfo(np.float16).max:\n",
    "                    df[col] = df[col].astype(np.float16)\n",
    "                elif c_min > np.finfo(np.float32).min and c_max < np.finfo(np.float32).max:\n",
    "                    df[col] = df[col].astype(np.float32)\n",
    "                else:\n",
    "                    df[col] = df[col].astype(np.float64)\n",
    "        else:\n",
    "            df[col] = df[col].astype('category')\n",
    "\n",
    "    end_mem = df.memory_usage().sum() \n",
    "    print('Memory usage after optimization is: {:.2f} MB'.format(end_mem))\n",
    "    print('Decreased by {:.1f}%'.format(100 * (start_mem - end_mem) / start_mem))\n",
    "    return df"
   ]
  },
  {
   "cell_type": "code",
   "execution_count": 3,
   "metadata": {},
   "outputs": [
    {
     "name": "stdout",
     "output_type": "stream",
     "text": [
      "Memory usage of dataframe is 62099672.00 MB\n",
      "Memory usage after optimization is: 16520303.00 MB\n",
      "Decreased by 73.4%\n"
     ]
    }
   ],
   "source": [
    "sample_feature = reduce_mem_usage(pd.read_csv('data_for_tree.csv'))"
   ]
  },
  {
   "cell_type": "code",
   "execution_count": 4,
   "metadata": {},
   "outputs": [],
   "source": [
    "continuous_feature_names = [x for x in sample_feature.columns if x not in ['price','brand','model','brand']]"
   ]
  },
  {
   "cell_type": "code",
   "execution_count": 5,
   "metadata": {},
   "outputs": [
    {
     "data": {
      "text/plain": [
       "['SaleID',\n",
       " 'bodyType',\n",
       " 'fuelType',\n",
       " 'gearbox',\n",
       " 'kilometer',\n",
       " 'name',\n",
       " 'notRepairedDamage',\n",
       " 'offerType',\n",
       " 'power',\n",
       " 'seller',\n",
       " 'train',\n",
       " 'v_0',\n",
       " 'v_1',\n",
       " 'v_10',\n",
       " 'v_11',\n",
       " 'v_12',\n",
       " 'v_13',\n",
       " 'v_14',\n",
       " 'v_2',\n",
       " 'v_3',\n",
       " 'v_4',\n",
       " 'v_5',\n",
       " 'v_6',\n",
       " 'v_7',\n",
       " 'v_8',\n",
       " 'v_9',\n",
       " 'used_time',\n",
       " 'city',\n",
       " 'brand_amount',\n",
       " 'brand_price_max',\n",
       " 'brand_price_median',\n",
       " 'brand_price_min',\n",
       " 'brand_price_sum',\n",
       " 'brand_price_std',\n",
       " 'brand_price_average',\n",
       " 'power_bin']"
      ]
     },
     "execution_count": 5,
     "metadata": {},
     "output_type": "execute_result"
    }
   ],
   "source": [
    "continuous_feature_names"
   ]
  },
  {
   "cell_type": "markdown",
   "metadata": {},
   "source": [
    "### 4.4.2 线性回归 & 五折交叉验证 & 模拟真实业务情况"
   ]
  },
  {
   "cell_type": "code",
   "execution_count": 8,
   "metadata": {},
   "outputs": [
    {
     "data": {
      "text/plain": [
       "(199037, 39)"
      ]
     },
     "execution_count": 8,
     "metadata": {},
     "output_type": "execute_result"
    }
   ],
   "source": [
    "sample_feature.shape"
   ]
  },
  {
   "cell_type": "code",
   "execution_count": 9,
   "metadata": {},
   "outputs": [
    {
     "data": {
      "text/html": [
       "<div>\n",
       "<style scoped>\n",
       "    .dataframe tbody tr th:only-of-type {\n",
       "        vertical-align: middle;\n",
       "    }\n",
       "\n",
       "    .dataframe tbody tr th {\n",
       "        vertical-align: top;\n",
       "    }\n",
       "\n",
       "    .dataframe thead th {\n",
       "        text-align: right;\n",
       "    }\n",
       "</style>\n",
       "<table border=\"1\" class=\"dataframe\">\n",
       "  <thead>\n",
       "    <tr style=\"text-align: right;\">\n",
       "      <th></th>\n",
       "      <th>SaleID</th>\n",
       "      <th>bodyType</th>\n",
       "      <th>brand</th>\n",
       "      <th>fuelType</th>\n",
       "      <th>gearbox</th>\n",
       "      <th>kilometer</th>\n",
       "      <th>model</th>\n",
       "      <th>name</th>\n",
       "      <th>notRepairedDamage</th>\n",
       "      <th>offerType</th>\n",
       "      <th>...</th>\n",
       "      <th>used_time</th>\n",
       "      <th>city</th>\n",
       "      <th>brand_amount</th>\n",
       "      <th>brand_price_max</th>\n",
       "      <th>brand_price_median</th>\n",
       "      <th>brand_price_min</th>\n",
       "      <th>brand_price_sum</th>\n",
       "      <th>brand_price_std</th>\n",
       "      <th>brand_price_average</th>\n",
       "      <th>power_bin</th>\n",
       "    </tr>\n",
       "  </thead>\n",
       "  <tbody>\n",
       "    <tr>\n",
       "      <th>0</th>\n",
       "      <td>0</td>\n",
       "      <td>1.0</td>\n",
       "      <td>6</td>\n",
       "      <td>0.0</td>\n",
       "      <td>0.0</td>\n",
       "      <td>12.5</td>\n",
       "      <td>30.0</td>\n",
       "      <td>736</td>\n",
       "      <td>0.0</td>\n",
       "      <td>0</td>\n",
       "      <td>...</td>\n",
       "      <td>4384.0</td>\n",
       "      <td>1.0</td>\n",
       "      <td>10192.0</td>\n",
       "      <td>35990.0</td>\n",
       "      <td>1800.0</td>\n",
       "      <td>13.0</td>\n",
       "      <td>36457520.0</td>\n",
       "      <td>4564.0</td>\n",
       "      <td>3576.0</td>\n",
       "      <td>5.0</td>\n",
       "    </tr>\n",
       "    <tr>\n",
       "      <th>2</th>\n",
       "      <td>2</td>\n",
       "      <td>1.0</td>\n",
       "      <td>15</td>\n",
       "      <td>0.0</td>\n",
       "      <td>0.0</td>\n",
       "      <td>12.5</td>\n",
       "      <td>115.0</td>\n",
       "      <td>14874</td>\n",
       "      <td>0.0</td>\n",
       "      <td>0</td>\n",
       "      <td>...</td>\n",
       "      <td>4384.0</td>\n",
       "      <td>2.0</td>\n",
       "      <td>1458.0</td>\n",
       "      <td>45000.0</td>\n",
       "      <td>8496.0</td>\n",
       "      <td>100.0</td>\n",
       "      <td>14373814.0</td>\n",
       "      <td>5424.0</td>\n",
       "      <td>9848.0</td>\n",
       "      <td>16.0</td>\n",
       "    </tr>\n",
       "    <tr>\n",
       "      <th>4</th>\n",
       "      <td>4</td>\n",
       "      <td>1.0</td>\n",
       "      <td>5</td>\n",
       "      <td>0.0</td>\n",
       "      <td>0.0</td>\n",
       "      <td>5.0</td>\n",
       "      <td>110.0</td>\n",
       "      <td>111080</td>\n",
       "      <td>0.0</td>\n",
       "      <td>0</td>\n",
       "      <td>...</td>\n",
       "      <td>1531.0</td>\n",
       "      <td>6.0</td>\n",
       "      <td>4664.0</td>\n",
       "      <td>31500.0</td>\n",
       "      <td>2300.0</td>\n",
       "      <td>20.0</td>\n",
       "      <td>15414322.0</td>\n",
       "      <td>3344.0</td>\n",
       "      <td>3306.0</td>\n",
       "      <td>6.0</td>\n",
       "    </tr>\n",
       "    <tr>\n",
       "      <th>5</th>\n",
       "      <td>5</td>\n",
       "      <td>0.0</td>\n",
       "      <td>10</td>\n",
       "      <td>1.0</td>\n",
       "      <td>0.0</td>\n",
       "      <td>10.0</td>\n",
       "      <td>24.0</td>\n",
       "      <td>137642</td>\n",
       "      <td>0.0</td>\n",
       "      <td>0</td>\n",
       "      <td>...</td>\n",
       "      <td>2482.0</td>\n",
       "      <td>3.0</td>\n",
       "      <td>13992.0</td>\n",
       "      <td>92900.0</td>\n",
       "      <td>5200.0</td>\n",
       "      <td>15.0</td>\n",
       "      <td>113034208.0</td>\n",
       "      <td>8248.0</td>\n",
       "      <td>8076.0</td>\n",
       "      <td>10.0</td>\n",
       "    </tr>\n",
       "    <tr>\n",
       "      <th>6</th>\n",
       "      <td>6</td>\n",
       "      <td>0.0</td>\n",
       "      <td>4</td>\n",
       "      <td>0.0</td>\n",
       "      <td>1.0</td>\n",
       "      <td>15.0</td>\n",
       "      <td>13.0</td>\n",
       "      <td>2402</td>\n",
       "      <td>0.0</td>\n",
       "      <td>0</td>\n",
       "      <td>...</td>\n",
       "      <td>6184.0</td>\n",
       "      <td>3.0</td>\n",
       "      <td>16576.0</td>\n",
       "      <td>99999.0</td>\n",
       "      <td>6000.0</td>\n",
       "      <td>12.0</td>\n",
       "      <td>138279072.0</td>\n",
       "      <td>8088.0</td>\n",
       "      <td>8344.0</td>\n",
       "      <td>14.0</td>\n",
       "    </tr>\n",
       "    <tr>\n",
       "      <th>...</th>\n",
       "      <td>...</td>\n",
       "      <td>...</td>\n",
       "      <td>...</td>\n",
       "      <td>...</td>\n",
       "      <td>...</td>\n",
       "      <td>...</td>\n",
       "      <td>...</td>\n",
       "      <td>...</td>\n",
       "      <td>...</td>\n",
       "      <td>...</td>\n",
       "      <td>...</td>\n",
       "      <td>...</td>\n",
       "      <td>...</td>\n",
       "      <td>...</td>\n",
       "      <td>...</td>\n",
       "      <td>...</td>\n",
       "      <td>...</td>\n",
       "      <td>...</td>\n",
       "      <td>...</td>\n",
       "      <td>...</td>\n",
       "      <td>...</td>\n",
       "    </tr>\n",
       "    <tr>\n",
       "      <th>149031</th>\n",
       "      <td>149994</td>\n",
       "      <td>1.0</td>\n",
       "      <td>1</td>\n",
       "      <td>0.0</td>\n",
       "      <td>0.0</td>\n",
       "      <td>3.0</td>\n",
       "      <td>42.0</td>\n",
       "      <td>43073</td>\n",
       "      <td>0.0</td>\n",
       "      <td>0</td>\n",
       "      <td>...</td>\n",
       "      <td>1538.0</td>\n",
       "      <td>5.0</td>\n",
       "      <td>13656.0</td>\n",
       "      <td>84000.0</td>\n",
       "      <td>6400.0</td>\n",
       "      <td>15.0</td>\n",
       "      <td>124044600.0</td>\n",
       "      <td>8992.0</td>\n",
       "      <td>9080.0</td>\n",
       "      <td>12.0</td>\n",
       "    </tr>\n",
       "    <tr>\n",
       "      <th>149032</th>\n",
       "      <td>149995</td>\n",
       "      <td>4.0</td>\n",
       "      <td>10</td>\n",
       "      <td>0.0</td>\n",
       "      <td>1.0</td>\n",
       "      <td>15.0</td>\n",
       "      <td>121.0</td>\n",
       "      <td>163978</td>\n",
       "      <td>0.0</td>\n",
       "      <td>0</td>\n",
       "      <td>...</td>\n",
       "      <td>5772.0</td>\n",
       "      <td>4.0</td>\n",
       "      <td>13992.0</td>\n",
       "      <td>92900.0</td>\n",
       "      <td>5200.0</td>\n",
       "      <td>15.0</td>\n",
       "      <td>113034208.0</td>\n",
       "      <td>8248.0</td>\n",
       "      <td>8076.0</td>\n",
       "      <td>16.0</td>\n",
       "    </tr>\n",
       "    <tr>\n",
       "      <th>149033</th>\n",
       "      <td>149996</td>\n",
       "      <td>0.0</td>\n",
       "      <td>11</td>\n",
       "      <td>0.0</td>\n",
       "      <td>0.0</td>\n",
       "      <td>10.0</td>\n",
       "      <td>116.0</td>\n",
       "      <td>184535</td>\n",
       "      <td>0.0</td>\n",
       "      <td>0</td>\n",
       "      <td>...</td>\n",
       "      <td>2322.0</td>\n",
       "      <td>2.0</td>\n",
       "      <td>2944.0</td>\n",
       "      <td>34500.0</td>\n",
       "      <td>2900.0</td>\n",
       "      <td>30.0</td>\n",
       "      <td>13398006.0</td>\n",
       "      <td>4724.0</td>\n",
       "      <td>4548.0</td>\n",
       "      <td>12.0</td>\n",
       "    </tr>\n",
       "    <tr>\n",
       "      <th>149034</th>\n",
       "      <td>149997</td>\n",
       "      <td>1.0</td>\n",
       "      <td>11</td>\n",
       "      <td>1.0</td>\n",
       "      <td>0.0</td>\n",
       "      <td>6.0</td>\n",
       "      <td>60.0</td>\n",
       "      <td>147587</td>\n",
       "      <td>0.0</td>\n",
       "      <td>0</td>\n",
       "      <td>...</td>\n",
       "      <td>2003.0</td>\n",
       "      <td>3.0</td>\n",
       "      <td>2944.0</td>\n",
       "      <td>34500.0</td>\n",
       "      <td>2900.0</td>\n",
       "      <td>30.0</td>\n",
       "      <td>13398006.0</td>\n",
       "      <td>4724.0</td>\n",
       "      <td>4548.0</td>\n",
       "      <td>8.0</td>\n",
       "    </tr>\n",
       "    <tr>\n",
       "      <th>149035</th>\n",
       "      <td>149998</td>\n",
       "      <td>3.0</td>\n",
       "      <td>10</td>\n",
       "      <td>1.0</td>\n",
       "      <td>0.0</td>\n",
       "      <td>15.0</td>\n",
       "      <td>34.0</td>\n",
       "      <td>45907</td>\n",
       "      <td>0.0</td>\n",
       "      <td>0</td>\n",
       "      <td>...</td>\n",
       "      <td>3672.0</td>\n",
       "      <td>1.0</td>\n",
       "      <td>13992.0</td>\n",
       "      <td>92900.0</td>\n",
       "      <td>5200.0</td>\n",
       "      <td>15.0</td>\n",
       "      <td>113034208.0</td>\n",
       "      <td>8248.0</td>\n",
       "      <td>8076.0</td>\n",
       "      <td>15.0</td>\n",
       "    </tr>\n",
       "  </tbody>\n",
       "</table>\n",
       "<p>91729 rows × 39 columns</p>\n",
       "</div>"
      ],
      "text/plain": [
       "        SaleID  bodyType  brand  fuelType  gearbox  kilometer  model    name  \\\n",
       "0            0       1.0      6       0.0      0.0       12.5   30.0     736   \n",
       "2            2       1.0     15       0.0      0.0       12.5  115.0   14874   \n",
       "4            4       1.0      5       0.0      0.0        5.0  110.0  111080   \n",
       "5            5       0.0     10       1.0      0.0       10.0   24.0  137642   \n",
       "6            6       0.0      4       0.0      1.0       15.0   13.0    2402   \n",
       "...        ...       ...    ...       ...      ...        ...    ...     ...   \n",
       "149031  149994       1.0      1       0.0      0.0        3.0   42.0   43073   \n",
       "149032  149995       4.0     10       0.0      1.0       15.0  121.0  163978   \n",
       "149033  149996       0.0     11       0.0      0.0       10.0  116.0  184535   \n",
       "149034  149997       1.0     11       1.0      0.0        6.0   60.0  147587   \n",
       "149035  149998       3.0     10       1.0      0.0       15.0   34.0   45907   \n",
       "\n",
       "       notRepairedDamage  offerType  ...  used_time  city  brand_amount  \\\n",
       "0                    0.0          0  ...     4384.0   1.0       10192.0   \n",
       "2                    0.0          0  ...     4384.0   2.0        1458.0   \n",
       "4                    0.0          0  ...     1531.0   6.0        4664.0   \n",
       "5                    0.0          0  ...     2482.0   3.0       13992.0   \n",
       "6                    0.0          0  ...     6184.0   3.0       16576.0   \n",
       "...                  ...        ...  ...        ...   ...           ...   \n",
       "149031               0.0          0  ...     1538.0   5.0       13656.0   \n",
       "149032               0.0          0  ...     5772.0   4.0       13992.0   \n",
       "149033               0.0          0  ...     2322.0   2.0        2944.0   \n",
       "149034               0.0          0  ...     2003.0   3.0        2944.0   \n",
       "149035               0.0          0  ...     3672.0   1.0       13992.0   \n",
       "\n",
       "        brand_price_max  brand_price_median  brand_price_min  brand_price_sum  \\\n",
       "0               35990.0              1800.0             13.0       36457520.0   \n",
       "2               45000.0              8496.0            100.0       14373814.0   \n",
       "4               31500.0              2300.0             20.0       15414322.0   \n",
       "5               92900.0              5200.0             15.0      113034208.0   \n",
       "6               99999.0              6000.0             12.0      138279072.0   \n",
       "...                 ...                 ...              ...              ...   \n",
       "149031          84000.0              6400.0             15.0      124044600.0   \n",
       "149032          92900.0              5200.0             15.0      113034208.0   \n",
       "149033          34500.0              2900.0             30.0       13398006.0   \n",
       "149034          34500.0              2900.0             30.0       13398006.0   \n",
       "149035          92900.0              5200.0             15.0      113034208.0   \n",
       "\n",
       "        brand_price_std  brand_price_average  power_bin  \n",
       "0                4564.0               3576.0        5.0  \n",
       "2                5424.0               9848.0       16.0  \n",
       "4                3344.0               3306.0        6.0  \n",
       "5                8248.0               8076.0       10.0  \n",
       "6                8088.0               8344.0       14.0  \n",
       "...                 ...                  ...        ...  \n",
       "149031           8992.0               9080.0       12.0  \n",
       "149032           8248.0               8076.0       16.0  \n",
       "149033           4724.0               4548.0       12.0  \n",
       "149034           4724.0               4548.0        8.0  \n",
       "149035           8248.0               8076.0       15.0  \n",
       "\n",
       "[91729 rows x 39 columns]"
      ]
     },
     "execution_count": 9,
     "metadata": {},
     "output_type": "execute_result"
    }
   ],
   "source": [
    "sample_feature.dropna()"
   ]
  },
  {
   "cell_type": "code",
   "execution_count": 10,
   "metadata": {},
   "outputs": [
    {
     "data": {
      "text/html": [
       "<div>\n",
       "<style scoped>\n",
       "    .dataframe tbody tr th:only-of-type {\n",
       "        vertical-align: middle;\n",
       "    }\n",
       "\n",
       "    .dataframe tbody tr th {\n",
       "        vertical-align: top;\n",
       "    }\n",
       "\n",
       "    .dataframe thead th {\n",
       "        text-align: right;\n",
       "    }\n",
       "</style>\n",
       "<table border=\"1\" class=\"dataframe\">\n",
       "  <thead>\n",
       "    <tr style=\"text-align: right;\">\n",
       "      <th></th>\n",
       "      <th>SaleID</th>\n",
       "      <th>bodyType</th>\n",
       "      <th>brand</th>\n",
       "      <th>fuelType</th>\n",
       "      <th>gearbox</th>\n",
       "      <th>kilometer</th>\n",
       "      <th>model</th>\n",
       "      <th>name</th>\n",
       "      <th>notRepairedDamage</th>\n",
       "      <th>offerType</th>\n",
       "      <th>...</th>\n",
       "      <th>used_time</th>\n",
       "      <th>city</th>\n",
       "      <th>brand_amount</th>\n",
       "      <th>brand_price_max</th>\n",
       "      <th>brand_price_median</th>\n",
       "      <th>brand_price_min</th>\n",
       "      <th>brand_price_sum</th>\n",
       "      <th>brand_price_std</th>\n",
       "      <th>brand_price_average</th>\n",
       "      <th>power_bin</th>\n",
       "    </tr>\n",
       "  </thead>\n",
       "  <tbody>\n",
       "    <tr>\n",
       "      <th>0</th>\n",
       "      <td>0</td>\n",
       "      <td>1.0</td>\n",
       "      <td>6</td>\n",
       "      <td>0.0</td>\n",
       "      <td>0.0</td>\n",
       "      <td>12.5</td>\n",
       "      <td>30.0</td>\n",
       "      <td>736</td>\n",
       "      <td>0.0</td>\n",
       "      <td>0</td>\n",
       "      <td>...</td>\n",
       "      <td>4384.0</td>\n",
       "      <td>1.0</td>\n",
       "      <td>10192.0</td>\n",
       "      <td>35990.0</td>\n",
       "      <td>1800.0</td>\n",
       "      <td>13.0</td>\n",
       "      <td>36457520.0</td>\n",
       "      <td>4564.0</td>\n",
       "      <td>3576.0</td>\n",
       "      <td>5.0</td>\n",
       "    </tr>\n",
       "    <tr>\n",
       "      <th>2</th>\n",
       "      <td>2</td>\n",
       "      <td>1.0</td>\n",
       "      <td>15</td>\n",
       "      <td>0.0</td>\n",
       "      <td>0.0</td>\n",
       "      <td>12.5</td>\n",
       "      <td>115.0</td>\n",
       "      <td>14874</td>\n",
       "      <td>0.0</td>\n",
       "      <td>0</td>\n",
       "      <td>...</td>\n",
       "      <td>4384.0</td>\n",
       "      <td>2.0</td>\n",
       "      <td>1458.0</td>\n",
       "      <td>45000.0</td>\n",
       "      <td>8496.0</td>\n",
       "      <td>100.0</td>\n",
       "      <td>14373814.0</td>\n",
       "      <td>5424.0</td>\n",
       "      <td>9848.0</td>\n",
       "      <td>16.0</td>\n",
       "    </tr>\n",
       "    <tr>\n",
       "      <th>4</th>\n",
       "      <td>4</td>\n",
       "      <td>1.0</td>\n",
       "      <td>5</td>\n",
       "      <td>0.0</td>\n",
       "      <td>0.0</td>\n",
       "      <td>5.0</td>\n",
       "      <td>110.0</td>\n",
       "      <td>111080</td>\n",
       "      <td>0.0</td>\n",
       "      <td>0</td>\n",
       "      <td>...</td>\n",
       "      <td>1531.0</td>\n",
       "      <td>6.0</td>\n",
       "      <td>4664.0</td>\n",
       "      <td>31500.0</td>\n",
       "      <td>2300.0</td>\n",
       "      <td>20.0</td>\n",
       "      <td>15414322.0</td>\n",
       "      <td>3344.0</td>\n",
       "      <td>3306.0</td>\n",
       "      <td>6.0</td>\n",
       "    </tr>\n",
       "    <tr>\n",
       "      <th>5</th>\n",
       "      <td>5</td>\n",
       "      <td>0.0</td>\n",
       "      <td>10</td>\n",
       "      <td>1.0</td>\n",
       "      <td>0.0</td>\n",
       "      <td>10.0</td>\n",
       "      <td>24.0</td>\n",
       "      <td>137642</td>\n",
       "      <td>0.0</td>\n",
       "      <td>0</td>\n",
       "      <td>...</td>\n",
       "      <td>2482.0</td>\n",
       "      <td>3.0</td>\n",
       "      <td>13992.0</td>\n",
       "      <td>92900.0</td>\n",
       "      <td>5200.0</td>\n",
       "      <td>15.0</td>\n",
       "      <td>113034208.0</td>\n",
       "      <td>8248.0</td>\n",
       "      <td>8076.0</td>\n",
       "      <td>10.0</td>\n",
       "    </tr>\n",
       "    <tr>\n",
       "      <th>6</th>\n",
       "      <td>6</td>\n",
       "      <td>0.0</td>\n",
       "      <td>4</td>\n",
       "      <td>0.0</td>\n",
       "      <td>1.0</td>\n",
       "      <td>15.0</td>\n",
       "      <td>13.0</td>\n",
       "      <td>2402</td>\n",
       "      <td>0.0</td>\n",
       "      <td>0</td>\n",
       "      <td>...</td>\n",
       "      <td>6184.0</td>\n",
       "      <td>3.0</td>\n",
       "      <td>16576.0</td>\n",
       "      <td>99999.0</td>\n",
       "      <td>6000.0</td>\n",
       "      <td>12.0</td>\n",
       "      <td>138279072.0</td>\n",
       "      <td>8088.0</td>\n",
       "      <td>8344.0</td>\n",
       "      <td>14.0</td>\n",
       "    </tr>\n",
       "    <tr>\n",
       "      <th>...</th>\n",
       "      <td>...</td>\n",
       "      <td>...</td>\n",
       "      <td>...</td>\n",
       "      <td>...</td>\n",
       "      <td>...</td>\n",
       "      <td>...</td>\n",
       "      <td>...</td>\n",
       "      <td>...</td>\n",
       "      <td>...</td>\n",
       "      <td>...</td>\n",
       "      <td>...</td>\n",
       "      <td>...</td>\n",
       "      <td>...</td>\n",
       "      <td>...</td>\n",
       "      <td>...</td>\n",
       "      <td>...</td>\n",
       "      <td>...</td>\n",
       "      <td>...</td>\n",
       "      <td>...</td>\n",
       "      <td>...</td>\n",
       "      <td>...</td>\n",
       "    </tr>\n",
       "    <tr>\n",
       "      <th>149031</th>\n",
       "      <td>149994</td>\n",
       "      <td>1.0</td>\n",
       "      <td>1</td>\n",
       "      <td>0.0</td>\n",
       "      <td>0.0</td>\n",
       "      <td>3.0</td>\n",
       "      <td>42.0</td>\n",
       "      <td>43073</td>\n",
       "      <td>0.0</td>\n",
       "      <td>0</td>\n",
       "      <td>...</td>\n",
       "      <td>1538.0</td>\n",
       "      <td>5.0</td>\n",
       "      <td>13656.0</td>\n",
       "      <td>84000.0</td>\n",
       "      <td>6400.0</td>\n",
       "      <td>15.0</td>\n",
       "      <td>124044600.0</td>\n",
       "      <td>8992.0</td>\n",
       "      <td>9080.0</td>\n",
       "      <td>12.0</td>\n",
       "    </tr>\n",
       "    <tr>\n",
       "      <th>149032</th>\n",
       "      <td>149995</td>\n",
       "      <td>4.0</td>\n",
       "      <td>10</td>\n",
       "      <td>0.0</td>\n",
       "      <td>1.0</td>\n",
       "      <td>15.0</td>\n",
       "      <td>121.0</td>\n",
       "      <td>163978</td>\n",
       "      <td>0.0</td>\n",
       "      <td>0</td>\n",
       "      <td>...</td>\n",
       "      <td>5772.0</td>\n",
       "      <td>4.0</td>\n",
       "      <td>13992.0</td>\n",
       "      <td>92900.0</td>\n",
       "      <td>5200.0</td>\n",
       "      <td>15.0</td>\n",
       "      <td>113034208.0</td>\n",
       "      <td>8248.0</td>\n",
       "      <td>8076.0</td>\n",
       "      <td>16.0</td>\n",
       "    </tr>\n",
       "    <tr>\n",
       "      <th>149033</th>\n",
       "      <td>149996</td>\n",
       "      <td>0.0</td>\n",
       "      <td>11</td>\n",
       "      <td>0.0</td>\n",
       "      <td>0.0</td>\n",
       "      <td>10.0</td>\n",
       "      <td>116.0</td>\n",
       "      <td>184535</td>\n",
       "      <td>0.0</td>\n",
       "      <td>0</td>\n",
       "      <td>...</td>\n",
       "      <td>2322.0</td>\n",
       "      <td>2.0</td>\n",
       "      <td>2944.0</td>\n",
       "      <td>34500.0</td>\n",
       "      <td>2900.0</td>\n",
       "      <td>30.0</td>\n",
       "      <td>13398006.0</td>\n",
       "      <td>4724.0</td>\n",
       "      <td>4548.0</td>\n",
       "      <td>12.0</td>\n",
       "    </tr>\n",
       "    <tr>\n",
       "      <th>149034</th>\n",
       "      <td>149997</td>\n",
       "      <td>1.0</td>\n",
       "      <td>11</td>\n",
       "      <td>1.0</td>\n",
       "      <td>0.0</td>\n",
       "      <td>6.0</td>\n",
       "      <td>60.0</td>\n",
       "      <td>147587</td>\n",
       "      <td>0.0</td>\n",
       "      <td>0</td>\n",
       "      <td>...</td>\n",
       "      <td>2003.0</td>\n",
       "      <td>3.0</td>\n",
       "      <td>2944.0</td>\n",
       "      <td>34500.0</td>\n",
       "      <td>2900.0</td>\n",
       "      <td>30.0</td>\n",
       "      <td>13398006.0</td>\n",
       "      <td>4724.0</td>\n",
       "      <td>4548.0</td>\n",
       "      <td>8.0</td>\n",
       "    </tr>\n",
       "    <tr>\n",
       "      <th>149035</th>\n",
       "      <td>149998</td>\n",
       "      <td>3.0</td>\n",
       "      <td>10</td>\n",
       "      <td>1.0</td>\n",
       "      <td>0.0</td>\n",
       "      <td>15.0</td>\n",
       "      <td>34.0</td>\n",
       "      <td>45907</td>\n",
       "      <td>0.0</td>\n",
       "      <td>0</td>\n",
       "      <td>...</td>\n",
       "      <td>3672.0</td>\n",
       "      <td>1.0</td>\n",
       "      <td>13992.0</td>\n",
       "      <td>92900.0</td>\n",
       "      <td>5200.0</td>\n",
       "      <td>15.0</td>\n",
       "      <td>113034208.0</td>\n",
       "      <td>8248.0</td>\n",
       "      <td>8076.0</td>\n",
       "      <td>15.0</td>\n",
       "    </tr>\n",
       "  </tbody>\n",
       "</table>\n",
       "<p>91729 rows × 39 columns</p>\n",
       "</div>"
      ],
      "text/plain": [
       "        SaleID  bodyType  brand  fuelType  gearbox  kilometer  model    name  \\\n",
       "0            0       1.0      6       0.0      0.0       12.5   30.0     736   \n",
       "2            2       1.0     15       0.0      0.0       12.5  115.0   14874   \n",
       "4            4       1.0      5       0.0      0.0        5.0  110.0  111080   \n",
       "5            5       0.0     10       1.0      0.0       10.0   24.0  137642   \n",
       "6            6       0.0      4       0.0      1.0       15.0   13.0    2402   \n",
       "...        ...       ...    ...       ...      ...        ...    ...     ...   \n",
       "149031  149994       1.0      1       0.0      0.0        3.0   42.0   43073   \n",
       "149032  149995       4.0     10       0.0      1.0       15.0  121.0  163978   \n",
       "149033  149996       0.0     11       0.0      0.0       10.0  116.0  184535   \n",
       "149034  149997       1.0     11       1.0      0.0        6.0   60.0  147587   \n",
       "149035  149998       3.0     10       1.0      0.0       15.0   34.0   45907   \n",
       "\n",
       "       notRepairedDamage  offerType  ...  used_time  city  brand_amount  \\\n",
       "0                    0.0          0  ...     4384.0   1.0       10192.0   \n",
       "2                    0.0          0  ...     4384.0   2.0        1458.0   \n",
       "4                    0.0          0  ...     1531.0   6.0        4664.0   \n",
       "5                    0.0          0  ...     2482.0   3.0       13992.0   \n",
       "6                    0.0          0  ...     6184.0   3.0       16576.0   \n",
       "...                  ...        ...  ...        ...   ...           ...   \n",
       "149031               0.0          0  ...     1538.0   5.0       13656.0   \n",
       "149032               0.0          0  ...     5772.0   4.0       13992.0   \n",
       "149033               0.0          0  ...     2322.0   2.0        2944.0   \n",
       "149034               0.0          0  ...     2003.0   3.0        2944.0   \n",
       "149035               0.0          0  ...     3672.0   1.0       13992.0   \n",
       "\n",
       "        brand_price_max  brand_price_median  brand_price_min  brand_price_sum  \\\n",
       "0               35990.0              1800.0             13.0       36457520.0   \n",
       "2               45000.0              8496.0            100.0       14373814.0   \n",
       "4               31500.0              2300.0             20.0       15414322.0   \n",
       "5               92900.0              5200.0             15.0      113034208.0   \n",
       "6               99999.0              6000.0             12.0      138279072.0   \n",
       "...                 ...                 ...              ...              ...   \n",
       "149031          84000.0              6400.0             15.0      124044600.0   \n",
       "149032          92900.0              5200.0             15.0      113034208.0   \n",
       "149033          34500.0              2900.0             30.0       13398006.0   \n",
       "149034          34500.0              2900.0             30.0       13398006.0   \n",
       "149035          92900.0              5200.0             15.0      113034208.0   \n",
       "\n",
       "        brand_price_std  brand_price_average  power_bin  \n",
       "0                4564.0               3576.0        5.0  \n",
       "2                5424.0               9848.0       16.0  \n",
       "4                3344.0               3306.0        6.0  \n",
       "5                8248.0               8076.0       10.0  \n",
       "6                8088.0               8344.0       14.0  \n",
       "...                 ...                  ...        ...  \n",
       "149031           8992.0               9080.0       12.0  \n",
       "149032           8248.0               8076.0       16.0  \n",
       "149033           4724.0               4548.0       12.0  \n",
       "149034           4724.0               4548.0        8.0  \n",
       "149035           8248.0               8076.0       15.0  \n",
       "\n",
       "[91729 rows x 39 columns]"
      ]
     },
     "execution_count": 10,
     "metadata": {},
     "output_type": "execute_result"
    }
   ],
   "source": [
    "sample_feature.dropna().replace('-', 0)"
   ]
  },
  {
   "cell_type": "code",
   "execution_count": 11,
   "metadata": {},
   "outputs": [
    {
     "data": {
      "text/html": [
       "<div>\n",
       "<style scoped>\n",
       "    .dataframe tbody tr th:only-of-type {\n",
       "        vertical-align: middle;\n",
       "    }\n",
       "\n",
       "    .dataframe tbody tr th {\n",
       "        vertical-align: top;\n",
       "    }\n",
       "\n",
       "    .dataframe thead th {\n",
       "        text-align: right;\n",
       "    }\n",
       "</style>\n",
       "<table border=\"1\" class=\"dataframe\">\n",
       "  <thead>\n",
       "    <tr style=\"text-align: right;\">\n",
       "      <th></th>\n",
       "      <th>SaleID</th>\n",
       "      <th>bodyType</th>\n",
       "      <th>brand</th>\n",
       "      <th>fuelType</th>\n",
       "      <th>gearbox</th>\n",
       "      <th>kilometer</th>\n",
       "      <th>model</th>\n",
       "      <th>name</th>\n",
       "      <th>notRepairedDamage</th>\n",
       "      <th>offerType</th>\n",
       "      <th>...</th>\n",
       "      <th>used_time</th>\n",
       "      <th>city</th>\n",
       "      <th>brand_amount</th>\n",
       "      <th>brand_price_max</th>\n",
       "      <th>brand_price_median</th>\n",
       "      <th>brand_price_min</th>\n",
       "      <th>brand_price_sum</th>\n",
       "      <th>brand_price_std</th>\n",
       "      <th>brand_price_average</th>\n",
       "      <th>power_bin</th>\n",
       "    </tr>\n",
       "  </thead>\n",
       "  <tbody>\n",
       "    <tr>\n",
       "      <th>0</th>\n",
       "      <td>0</td>\n",
       "      <td>1.0</td>\n",
       "      <td>6</td>\n",
       "      <td>0.0</td>\n",
       "      <td>0.0</td>\n",
       "      <td>12.5</td>\n",
       "      <td>30.0</td>\n",
       "      <td>736</td>\n",
       "      <td>0.0</td>\n",
       "      <td>0</td>\n",
       "      <td>...</td>\n",
       "      <td>4384.0</td>\n",
       "      <td>1.0</td>\n",
       "      <td>10192.0</td>\n",
       "      <td>35990.0</td>\n",
       "      <td>1800.0</td>\n",
       "      <td>13.0</td>\n",
       "      <td>36457520.0</td>\n",
       "      <td>4564.0</td>\n",
       "      <td>3576.0</td>\n",
       "      <td>5.0</td>\n",
       "    </tr>\n",
       "    <tr>\n",
       "      <th>1</th>\n",
       "      <td>2</td>\n",
       "      <td>1.0</td>\n",
       "      <td>15</td>\n",
       "      <td>0.0</td>\n",
       "      <td>0.0</td>\n",
       "      <td>12.5</td>\n",
       "      <td>115.0</td>\n",
       "      <td>14874</td>\n",
       "      <td>0.0</td>\n",
       "      <td>0</td>\n",
       "      <td>...</td>\n",
       "      <td>4384.0</td>\n",
       "      <td>2.0</td>\n",
       "      <td>1458.0</td>\n",
       "      <td>45000.0</td>\n",
       "      <td>8496.0</td>\n",
       "      <td>100.0</td>\n",
       "      <td>14373814.0</td>\n",
       "      <td>5424.0</td>\n",
       "      <td>9848.0</td>\n",
       "      <td>16.0</td>\n",
       "    </tr>\n",
       "    <tr>\n",
       "      <th>2</th>\n",
       "      <td>4</td>\n",
       "      <td>1.0</td>\n",
       "      <td>5</td>\n",
       "      <td>0.0</td>\n",
       "      <td>0.0</td>\n",
       "      <td>5.0</td>\n",
       "      <td>110.0</td>\n",
       "      <td>111080</td>\n",
       "      <td>0.0</td>\n",
       "      <td>0</td>\n",
       "      <td>...</td>\n",
       "      <td>1531.0</td>\n",
       "      <td>6.0</td>\n",
       "      <td>4664.0</td>\n",
       "      <td>31500.0</td>\n",
       "      <td>2300.0</td>\n",
       "      <td>20.0</td>\n",
       "      <td>15414322.0</td>\n",
       "      <td>3344.0</td>\n",
       "      <td>3306.0</td>\n",
       "      <td>6.0</td>\n",
       "    </tr>\n",
       "    <tr>\n",
       "      <th>3</th>\n",
       "      <td>5</td>\n",
       "      <td>0.0</td>\n",
       "      <td>10</td>\n",
       "      <td>1.0</td>\n",
       "      <td>0.0</td>\n",
       "      <td>10.0</td>\n",
       "      <td>24.0</td>\n",
       "      <td>137642</td>\n",
       "      <td>0.0</td>\n",
       "      <td>0</td>\n",
       "      <td>...</td>\n",
       "      <td>2482.0</td>\n",
       "      <td>3.0</td>\n",
       "      <td>13992.0</td>\n",
       "      <td>92900.0</td>\n",
       "      <td>5200.0</td>\n",
       "      <td>15.0</td>\n",
       "      <td>113034208.0</td>\n",
       "      <td>8248.0</td>\n",
       "      <td>8076.0</td>\n",
       "      <td>10.0</td>\n",
       "    </tr>\n",
       "    <tr>\n",
       "      <th>4</th>\n",
       "      <td>6</td>\n",
       "      <td>0.0</td>\n",
       "      <td>4</td>\n",
       "      <td>0.0</td>\n",
       "      <td>1.0</td>\n",
       "      <td>15.0</td>\n",
       "      <td>13.0</td>\n",
       "      <td>2402</td>\n",
       "      <td>0.0</td>\n",
       "      <td>0</td>\n",
       "      <td>...</td>\n",
       "      <td>6184.0</td>\n",
       "      <td>3.0</td>\n",
       "      <td>16576.0</td>\n",
       "      <td>99999.0</td>\n",
       "      <td>6000.0</td>\n",
       "      <td>12.0</td>\n",
       "      <td>138279072.0</td>\n",
       "      <td>8088.0</td>\n",
       "      <td>8344.0</td>\n",
       "      <td>14.0</td>\n",
       "    </tr>\n",
       "    <tr>\n",
       "      <th>...</th>\n",
       "      <td>...</td>\n",
       "      <td>...</td>\n",
       "      <td>...</td>\n",
       "      <td>...</td>\n",
       "      <td>...</td>\n",
       "      <td>...</td>\n",
       "      <td>...</td>\n",
       "      <td>...</td>\n",
       "      <td>...</td>\n",
       "      <td>...</td>\n",
       "      <td>...</td>\n",
       "      <td>...</td>\n",
       "      <td>...</td>\n",
       "      <td>...</td>\n",
       "      <td>...</td>\n",
       "      <td>...</td>\n",
       "      <td>...</td>\n",
       "      <td>...</td>\n",
       "      <td>...</td>\n",
       "      <td>...</td>\n",
       "      <td>...</td>\n",
       "    </tr>\n",
       "    <tr>\n",
       "      <th>91724</th>\n",
       "      <td>149994</td>\n",
       "      <td>1.0</td>\n",
       "      <td>1</td>\n",
       "      <td>0.0</td>\n",
       "      <td>0.0</td>\n",
       "      <td>3.0</td>\n",
       "      <td>42.0</td>\n",
       "      <td>43073</td>\n",
       "      <td>0.0</td>\n",
       "      <td>0</td>\n",
       "      <td>...</td>\n",
       "      <td>1538.0</td>\n",
       "      <td>5.0</td>\n",
       "      <td>13656.0</td>\n",
       "      <td>84000.0</td>\n",
       "      <td>6400.0</td>\n",
       "      <td>15.0</td>\n",
       "      <td>124044600.0</td>\n",
       "      <td>8992.0</td>\n",
       "      <td>9080.0</td>\n",
       "      <td>12.0</td>\n",
       "    </tr>\n",
       "    <tr>\n",
       "      <th>91725</th>\n",
       "      <td>149995</td>\n",
       "      <td>4.0</td>\n",
       "      <td>10</td>\n",
       "      <td>0.0</td>\n",
       "      <td>1.0</td>\n",
       "      <td>15.0</td>\n",
       "      <td>121.0</td>\n",
       "      <td>163978</td>\n",
       "      <td>0.0</td>\n",
       "      <td>0</td>\n",
       "      <td>...</td>\n",
       "      <td>5772.0</td>\n",
       "      <td>4.0</td>\n",
       "      <td>13992.0</td>\n",
       "      <td>92900.0</td>\n",
       "      <td>5200.0</td>\n",
       "      <td>15.0</td>\n",
       "      <td>113034208.0</td>\n",
       "      <td>8248.0</td>\n",
       "      <td>8076.0</td>\n",
       "      <td>16.0</td>\n",
       "    </tr>\n",
       "    <tr>\n",
       "      <th>91726</th>\n",
       "      <td>149996</td>\n",
       "      <td>0.0</td>\n",
       "      <td>11</td>\n",
       "      <td>0.0</td>\n",
       "      <td>0.0</td>\n",
       "      <td>10.0</td>\n",
       "      <td>116.0</td>\n",
       "      <td>184535</td>\n",
       "      <td>0.0</td>\n",
       "      <td>0</td>\n",
       "      <td>...</td>\n",
       "      <td>2322.0</td>\n",
       "      <td>2.0</td>\n",
       "      <td>2944.0</td>\n",
       "      <td>34500.0</td>\n",
       "      <td>2900.0</td>\n",
       "      <td>30.0</td>\n",
       "      <td>13398006.0</td>\n",
       "      <td>4724.0</td>\n",
       "      <td>4548.0</td>\n",
       "      <td>12.0</td>\n",
       "    </tr>\n",
       "    <tr>\n",
       "      <th>91727</th>\n",
       "      <td>149997</td>\n",
       "      <td>1.0</td>\n",
       "      <td>11</td>\n",
       "      <td>1.0</td>\n",
       "      <td>0.0</td>\n",
       "      <td>6.0</td>\n",
       "      <td>60.0</td>\n",
       "      <td>147587</td>\n",
       "      <td>0.0</td>\n",
       "      <td>0</td>\n",
       "      <td>...</td>\n",
       "      <td>2003.0</td>\n",
       "      <td>3.0</td>\n",
       "      <td>2944.0</td>\n",
       "      <td>34500.0</td>\n",
       "      <td>2900.0</td>\n",
       "      <td>30.0</td>\n",
       "      <td>13398006.0</td>\n",
       "      <td>4724.0</td>\n",
       "      <td>4548.0</td>\n",
       "      <td>8.0</td>\n",
       "    </tr>\n",
       "    <tr>\n",
       "      <th>91728</th>\n",
       "      <td>149998</td>\n",
       "      <td>3.0</td>\n",
       "      <td>10</td>\n",
       "      <td>1.0</td>\n",
       "      <td>0.0</td>\n",
       "      <td>15.0</td>\n",
       "      <td>34.0</td>\n",
       "      <td>45907</td>\n",
       "      <td>0.0</td>\n",
       "      <td>0</td>\n",
       "      <td>...</td>\n",
       "      <td>3672.0</td>\n",
       "      <td>1.0</td>\n",
       "      <td>13992.0</td>\n",
       "      <td>92900.0</td>\n",
       "      <td>5200.0</td>\n",
       "      <td>15.0</td>\n",
       "      <td>113034208.0</td>\n",
       "      <td>8248.0</td>\n",
       "      <td>8076.0</td>\n",
       "      <td>15.0</td>\n",
       "    </tr>\n",
       "  </tbody>\n",
       "</table>\n",
       "<p>91729 rows × 39 columns</p>\n",
       "</div>"
      ],
      "text/plain": [
       "       SaleID  bodyType  brand  fuelType  gearbox  kilometer  model    name  \\\n",
       "0           0       1.0      6       0.0      0.0       12.5   30.0     736   \n",
       "1           2       1.0     15       0.0      0.0       12.5  115.0   14874   \n",
       "2           4       1.0      5       0.0      0.0        5.0  110.0  111080   \n",
       "3           5       0.0     10       1.0      0.0       10.0   24.0  137642   \n",
       "4           6       0.0      4       0.0      1.0       15.0   13.0    2402   \n",
       "...       ...       ...    ...       ...      ...        ...    ...     ...   \n",
       "91724  149994       1.0      1       0.0      0.0        3.0   42.0   43073   \n",
       "91725  149995       4.0     10       0.0      1.0       15.0  121.0  163978   \n",
       "91726  149996       0.0     11       0.0      0.0       10.0  116.0  184535   \n",
       "91727  149997       1.0     11       1.0      0.0        6.0   60.0  147587   \n",
       "91728  149998       3.0     10       1.0      0.0       15.0   34.0   45907   \n",
       "\n",
       "      notRepairedDamage  offerType  ...  used_time  city  brand_amount  \\\n",
       "0                   0.0          0  ...     4384.0   1.0       10192.0   \n",
       "1                   0.0          0  ...     4384.0   2.0        1458.0   \n",
       "2                   0.0          0  ...     1531.0   6.0        4664.0   \n",
       "3                   0.0          0  ...     2482.0   3.0       13992.0   \n",
       "4                   0.0          0  ...     6184.0   3.0       16576.0   \n",
       "...                 ...        ...  ...        ...   ...           ...   \n",
       "91724               0.0          0  ...     1538.0   5.0       13656.0   \n",
       "91725               0.0          0  ...     5772.0   4.0       13992.0   \n",
       "91726               0.0          0  ...     2322.0   2.0        2944.0   \n",
       "91727               0.0          0  ...     2003.0   3.0        2944.0   \n",
       "91728               0.0          0  ...     3672.0   1.0       13992.0   \n",
       "\n",
       "       brand_price_max  brand_price_median  brand_price_min  brand_price_sum  \\\n",
       "0              35990.0              1800.0             13.0       36457520.0   \n",
       "1              45000.0              8496.0            100.0       14373814.0   \n",
       "2              31500.0              2300.0             20.0       15414322.0   \n",
       "3              92900.0              5200.0             15.0      113034208.0   \n",
       "4              99999.0              6000.0             12.0      138279072.0   \n",
       "...                ...                 ...              ...              ...   \n",
       "91724          84000.0              6400.0             15.0      124044600.0   \n",
       "91725          92900.0              5200.0             15.0      113034208.0   \n",
       "91726          34500.0              2900.0             30.0       13398006.0   \n",
       "91727          34500.0              2900.0             30.0       13398006.0   \n",
       "91728          92900.0              5200.0             15.0      113034208.0   \n",
       "\n",
       "       brand_price_std  brand_price_average  power_bin  \n",
       "0               4564.0               3576.0        5.0  \n",
       "1               5424.0               9848.0       16.0  \n",
       "2               3344.0               3306.0        6.0  \n",
       "3               8248.0               8076.0       10.0  \n",
       "4               8088.0               8344.0       14.0  \n",
       "...                ...                  ...        ...  \n",
       "91724           8992.0               9080.0       12.0  \n",
       "91725           8248.0               8076.0       16.0  \n",
       "91726           4724.0               4548.0       12.0  \n",
       "91727           4724.0               4548.0        8.0  \n",
       "91728           8248.0               8076.0       15.0  \n",
       "\n",
       "[91729 rows x 39 columns]"
      ]
     },
     "execution_count": 11,
     "metadata": {},
     "output_type": "execute_result"
    }
   ],
   "source": [
    "sample_feature.dropna().replace('-', 0).reset_index(drop=True)"
   ]
  },
  {
   "cell_type": "code",
   "execution_count": 19,
   "metadata": {},
   "outputs": [
    {
     "data": {
      "text/plain": [
       "numpy.dtype"
      ]
     },
     "execution_count": 19,
     "metadata": {},
     "output_type": "execute_result"
    }
   ],
   "source": [
    "type(sample_feature['price'].dtype)"
   ]
  },
  {
   "cell_type": "code",
   "execution_count": 21,
   "metadata": {},
   "outputs": [
    {
     "data": {
      "text/plain": [
       "'float32'"
      ]
     },
     "execution_count": 21,
     "metadata": {},
     "output_type": "execute_result"
    }
   ],
   "source": [
    "str(sample_feature['price'].dtype)"
   ]
  },
  {
   "cell_type": "code",
   "execution_count": 17,
   "metadata": {},
   "outputs": [
    {
     "data": {
      "text/plain": [
       "['SaleID',\n",
       " 'bodyType',\n",
       " 'fuelType',\n",
       " 'gearbox',\n",
       " 'kilometer',\n",
       " 'name',\n",
       " 'notRepairedDamage',\n",
       " 'offerType',\n",
       " 'power',\n",
       " 'seller',\n",
       " 'train',\n",
       " 'v_0',\n",
       " 'v_1',\n",
       " 'v_10',\n",
       " 'v_11',\n",
       " 'v_12',\n",
       " 'v_13',\n",
       " 'v_14',\n",
       " 'v_2',\n",
       " 'v_3',\n",
       " 'v_4',\n",
       " 'v_5',\n",
       " 'v_6',\n",
       " 'v_7',\n",
       " 'v_8',\n",
       " 'v_9',\n",
       " 'used_time',\n",
       " 'city',\n",
       " 'brand_amount',\n",
       " 'brand_price_max',\n",
       " 'brand_price_median',\n",
       " 'brand_price_min',\n",
       " 'brand_price_sum',\n",
       " 'brand_price_std',\n",
       " 'brand_price_average',\n",
       " 'power_bin',\n",
       " 'price']"
      ]
     },
     "execution_count": 17,
     "metadata": {},
     "output_type": "execute_result"
    }
   ],
   "source": [
    "continuous_feature_names + ['price']"
   ]
  },
  {
   "cell_type": "code",
   "execution_count": 18,
   "metadata": {},
   "outputs": [
    {
     "data": {
      "text/plain": [
       "list"
      ]
     },
     "execution_count": 18,
     "metadata": {},
     "output_type": "execute_result"
    }
   ],
   "source": [
    "type(continuous_feature_names)"
   ]
  },
  {
   "cell_type": "code",
   "execution_count": null,
   "metadata": {},
   "outputs": [],
   "source": []
  },
  {
   "cell_type": "code",
   "execution_count": 22,
   "metadata": {},
   "outputs": [],
   "source": [
    "sample_feature = sample_feature.dropna().replace('-', 0).reset_index(drop=True)\n",
    "sample_feature['notRepairedDamage'] = sample_feature['notRepairedDamage'].astype(np.float32)\n",
    "train = sample_feature[continuous_feature_names + ['price']]\n",
    "\n",
    "train_X = train[continuous_feature_names]\n",
    "train_y = train['price']"
   ]
  },
  {
   "cell_type": "markdown",
   "metadata": {},
   "source": [
    "#### 4.4.2 - 1 简单建模"
   ]
  },
  {
   "cell_type": "code",
   "execution_count": 23,
   "metadata": {},
   "outputs": [],
   "source": [
    "from sklearn.linear_model import LinearRegression"
   ]
  },
  {
   "cell_type": "code",
   "execution_count": 27,
   "metadata": {},
   "outputs": [],
   "source": [
    "model = LinearRegression(normalize=True)"
   ]
  },
  {
   "cell_type": "code",
   "execution_count": 29,
   "metadata": {},
   "outputs": [],
   "source": [
    "model = model.fit(train_X, train_y)"
   ]
  },
  {
   "cell_type": "markdown",
   "metadata": {},
   "source": [
    "查看训练的线性回归模型的截距（intercept）与权重(coef)"
   ]
  },
  {
   "cell_type": "code",
   "execution_count": 30,
   "metadata": {
    "scrolled": true
   },
   "outputs": [
    {
     "data": {
      "text/plain": [
       "[('v_6', 3367064.3416419127),\n",
       " ('v_8', 700675.5609398747),\n",
       " ('v_9', 170630.27723219778),\n",
       " ('v_7', 32322.66193202066),\n",
       " ('v_12', 20473.670796956518),\n",
       " ('v_3', 17868.079541495277),\n",
       " ('v_11', 11474.93899667472),\n",
       " ('v_13', 11261.764560013775),\n",
       " ('v_10', 2683.920090636247),\n",
       " ('gearbox', 881.8225039248076),\n",
       " ('fuelType', 363.9042507217425),\n",
       " ('bodyType', 189.60271012071334),\n",
       " ('city', 44.94975120521506),\n",
       " ('power', 28.553901616753308),\n",
       " ('brand_price_median', 0.5103728134078945),\n",
       " ('brand_price_std', 0.4503634709263306),\n",
       " ('brand_amount', 0.1488112039506502),\n",
       " ('brand_price_max', 0.0031910186703142654),\n",
       " ('SaleID', 5.355989919859153e-05),\n",
       " ('seller', 1.7292331904172897e-05),\n",
       " ('offerType', -3.609340637922287e-06),\n",
       " ('train', -8.841510862112045e-06),\n",
       " ('brand_price_sum', -2.1750068681876416e-05),\n",
       " ('name', -0.0002980012713070219),\n",
       " ('used_time', -0.0025158943328975666),\n",
       " ('brand_price_average', -0.4049048451011582),\n",
       " ('brand_price_min', -2.2467753486897433),\n",
       " ('power_bin', -34.42064411727693),\n",
       " ('v_14', -274.78411807745636),\n",
       " ('kilometer', -372.8975266607184),\n",
       " ('notRepairedDamage', -495.1903844630634),\n",
       " ('v_0', -2045.0549573528133),\n",
       " ('v_5', -11022.986240572642),\n",
       " ('v_4', -15121.731109855522),\n",
       " ('v_2', -26098.299920511883),\n",
       " ('v_1', -45556.18929722599)]"
      ]
     },
     "execution_count": 30,
     "metadata": {},
     "output_type": "execute_result"
    }
   ],
   "source": [
    "'intercept:'+ str(model.intercept_)\n",
    "\n",
    "sorted(dict(zip(continuous_feature_names, model.coef_)).items(), key=lambda x:x[1], reverse=True)"
   ]
  },
  {
   "cell_type": "code",
   "execution_count": 31,
   "metadata": {},
   "outputs": [],
   "source": [
    "from matplotlib import pyplot as plt"
   ]
  },
  {
   "cell_type": "code",
   "execution_count": 32,
   "metadata": {},
   "outputs": [],
   "source": [
    "subsample_index = np.random.randint(low=0, high=len(train_y), size=50)"
   ]
  },
  {
   "cell_type": "markdown",
   "metadata": {},
   "source": [
    "绘制特征v_9的值与标签的散点图，图片发现模型的预测结果（蓝色点）与真实标签（黑色点）的分布差异较大，且部分预测值出现了小于0的情况，说明我们的模型存在一些问题"
   ]
  },
  {
   "cell_type": "code",
   "execution_count": 35,
   "metadata": {},
   "outputs": [
    {
     "data": {
      "text/plain": [
       "59420    0.085938\n",
       "78913    0.066223\n",
       "39884    0.106995\n",
       "87706    0.082092\n",
       "73974    0.033691\n",
       "82307    0.084045\n",
       "34017    0.053619\n",
       "55944    0.068298\n",
       "42034    0.130127\n",
       "1201     0.143311\n",
       "51742    0.032837\n",
       "64533    0.087280\n",
       "72427    0.062042\n",
       "86012    0.024200\n",
       "23359    0.013344\n",
       "57728    0.123047\n",
       "12368    0.062012\n",
       "20233    0.091431\n",
       "38998    0.095032\n",
       "34582    0.034943\n",
       "91636    0.075317\n",
       "52548    0.014694\n",
       "59026    0.052765\n",
       "89827    0.060394\n",
       "64019    0.089905\n",
       "18876    0.034302\n",
       "3745     0.085632\n",
       "32782    0.019348\n",
       "41877    0.025101\n",
       "68433    0.068848\n",
       "85062    0.053162\n",
       "44666    0.117004\n",
       "51268    0.149658\n",
       "49455    0.042267\n",
       "80272    0.079895\n",
       "53880    0.041046\n",
       "84581    0.077637\n",
       "27045    0.107483\n",
       "80999    0.096802\n",
       "10948    0.123047\n",
       "23771    0.042603\n",
       "47688    0.030212\n",
       "64225    0.019760\n",
       "10636    0.085876\n",
       "43777    0.000874\n",
       "49360    0.098633\n",
       "30443    0.115356\n",
       "90034    0.020050\n",
       "62206    0.017807\n",
       "78444    0.033356\n",
       "Name: v_9, dtype: float64"
      ]
     },
     "execution_count": 35,
     "metadata": {},
     "output_type": "execute_result"
    }
   ],
   "source": [
    "train_X['v_9'][subsample_index]"
   ]
  },
  {
   "cell_type": "code",
   "execution_count": null,
   "metadata": {},
   "outputs": [],
   "source": []
  },
  {
   "cell_type": "code",
   "execution_count": null,
   "metadata": {},
   "outputs": [],
   "source": []
  },
  {
   "cell_type": "code",
   "execution_count": 36,
   "metadata": {},
   "outputs": [
    {
     "name": "stdout",
     "output_type": "stream",
     "text": [
      "The predicted price is obvious different from true price\n"
     ]
    },
    {
     "data": {
      "image/png": "[encoded data removed]",
      "text/plain": [
       "<Figure size 432x288 with 1 Axes>"
      ]
     },
     "metadata": {
      "needs_background": "light"
     },
     "output_type": "display_data"
    }
   ],
   "source": [
    "plt.scatter(train_X['v_9'][subsample_index], train_y[subsample_index], color='black')\n",
    "plt.scatter(train_X['v_9'][subsample_index], model.predict(train_X.loc[subsample_index]), color='blue')\n",
    "plt.xlabel('v_9')\n",
    "plt.ylabel('price')\n",
    "plt.legend(['True Price','Predicted Price'],loc='upper right')\n",
    "print('The predicted price is obvious different from true price')\n",
    "plt.show()"
   ]
  },
  {
   "cell_type": "markdown",
   "metadata": {},
   "source": [
    "通过作图我们发现数据的标签（price）呈现长尾分布，不利于我们的建模预测。原因是很多模型都假设数据误差项符合正态分布，而长尾分布的数据违背了这一假设。参考博客：https://blog.csdn.net/Noob_daniel/article/details/76087829"
   ]
  },
  {
   "cell_type": "code",
   "execution_count": 13,
   "metadata": {},
   "outputs": [
    {
     "name": "stdout",
     "output_type": "stream",
     "text": [
      "It is clear to see the price shows a typical exponential distribution\n"
     ]
    },
    {
     "data": {
      "text/plain": [
       "<matplotlib.axes._subplots.AxesSubplot at 0x1b33efb2f98>"
      ]
     },
     "execution_count": 13,
     "metadata": {},
     "output_type": "execute_result"
    },
    {
     "data": {
      "image/png": "[encoded data removed]",
      "text/plain": [
       "<Figure size 1080x360 with 2 Axes>"
      ]
     },
     "metadata": {
      "needs_background": "light"
     },
     "output_type": "display_data"
    }
   ],
   "source": [
    "import seaborn as sns\n",
    "print('It is clear to see the price shows a typical exponential distribution')\n",
    "plt.figure(figsize=(15,5))\n",
    "plt.subplot(1,2,1)\n",
    "sns.distplot(train_y)\n",
    "plt.subplot(1,2,2)\n",
    "sns.distplot(train_y[train_y < np.quantile(train_y, 0.9)])"
   ]
  },
  {
   "cell_type": "markdown",
   "metadata": {},
   "source": [
    "在这里我们对标签进行了 $log(x+1)$ 变换，使标签贴近于正态分布"
   ]
  },
  {
   "cell_type": "code",
   "execution_count": 37,
   "metadata": {},
   "outputs": [],
   "source": [
    "train_y_ln = np.log(train_y + 1)"
   ]
  },
  {
   "cell_type": "code",
   "execution_count": 38,
   "metadata": {},
   "outputs": [
    {
     "name": "stdout",
     "output_type": "stream",
     "text": [
      "The transformed price seems like normal distribution\n"
     ]
    },
    {
     "data": {
      "text/plain": [
       "<matplotlib.axes._subplots.AxesSubplot at 0x1ea0c6bca58>"
      ]
     },
     "execution_count": 38,
     "metadata": {},
     "output_type": "execute_result"
    },
    {
     "data": {
      "image/png": "[encoded data removed]",
      "text/plain": [
       "<Figure size 1080x360 with 2 Axes>"
      ]
     },
     "metadata": {
      "needs_background": "light"
     },
     "output_type": "display_data"
    }
   ],
   "source": [
    "import seaborn as sns\n",
    "print('The transformed price seems like normal distribution')\n",
    "plt.figure(figsize=(15,5))\n",
    "plt.subplot(1,2,1)\n",
    "sns.distplot(train_y_ln)\n",
    "plt.subplot(1,2,2)\n",
    "sns.distplot(train_y_ln[train_y_ln < np.quantile(train_y_ln, 0.9)])"
   ]
  },
  {
   "cell_type": "code",
   "execution_count": 39,
   "metadata": {},
   "outputs": [
    {
     "name": "stdout",
     "output_type": "stream",
     "text": [
      "intercept:18.750749465596538\n"
     ]
    },
    {
     "data": {
      "text/plain": [
       "[('v_9', 8.052409900567598),\n",
       " ('v_5', 5.764236596653164),\n",
       " ('v_12', 1.6182081236790842),\n",
       " ('v_1', 1.479831058297348),\n",
       " ('v_11', 1.1669016563604946),\n",
       " ('v_13', 0.9404711296033863),\n",
       " ('v_7', 0.7137273083565177),\n",
       " ('v_3', 0.6837875771083749),\n",
       " ('v_0', 0.00850051800990644),\n",
       " ('power_bin', 0.00849796930289138),\n",
       " ('gearbox', 0.007922377278334032),\n",
       " ('fuelType', 0.006684769706830405),\n",
       " ('bodyType', 0.004523520092703996),\n",
       " ('power', 0.0007161894205359879),\n",
       " ('brand_price_min', 3.334351114751914e-05),\n",
       " ('brand_amount', 2.8978797042783603e-06),\n",
       " ('brand_price_median', 1.2571172872987556e-06),\n",
       " ('brand_price_std', 6.659176363456033e-07),\n",
       " ('brand_price_max', 6.194956307516954e-07),\n",
       " ('brand_price_average', 5.999345965077057e-07),\n",
       " ('SaleID', 2.11941700396436e-08),\n",
       " ('seller', 3.923616986867273e-11),\n",
       " ('train', -1.5702994460298214e-11),\n",
       " ('offerType', -2.2708945834892802e-11),\n",
       " ('brand_price_sum', -1.5126504215939166e-10),\n",
       " ('name', -7.015512588894369e-08),\n",
       " ('used_time', -4.122479372349444e-06),\n",
       " ('city', -0.0022187824810420242),\n",
       " ('v_14', -0.004234223418117319),\n",
       " ('kilometer', -0.013835866226884267),\n",
       " ('notRepairedDamage', -0.27027942349846545),\n",
       " ('v_4', -0.8315701200994575),\n",
       " ('v_2', -0.9470842241619425),\n",
       " ('v_10', -1.6261466689774864),\n",
       " ('v_8', -40.343007487616305),\n",
       " ('v_6', -238.79036385506956)]"
      ]
     },
     "execution_count": 39,
     "metadata": {},
     "output_type": "execute_result"
    }
   ],
   "source": [
    "model = model.fit(train_X, train_y_ln)\n",
    "\n",
    "print('intercept:'+ str(model.intercept_))\n",
    "sorted(dict(zip(continuous_feature_names, model.coef_)).items(), key=lambda x:x[1], reverse=True)"
   ]
  },
  {
   "cell_type": "markdown",
   "metadata": {},
   "source": [
    "再次进行可视化，发现预测结果与真实值较为接近，且未出现异常状况"
   ]
  },
  {
   "cell_type": "code",
   "execution_count": 40,
   "metadata": {},
   "outputs": [
    {
     "name": "stdout",
     "output_type": "stream",
     "text": [
      "The predicted price seems normal after np.log transforming\n"
     ]
    },
    {
     "data": {
      "image/png": "[encoded data removed]",
      "text/plain": [
       "<Figure size 432x288 with 1 Axes>"
      ]
     },
     "metadata": {
      "needs_background": "light"
     },
     "output_type": "display_data"
    }
   ],
   "source": [
    "plt.scatter(train_X['v_9'][subsample_index], train_y[subsample_index], color='black')\n",
    "plt.scatter(train_X['v_9'][subsample_index], np.exp(model.predict(train_X.loc[subsample_index])), color='blue')\n",
    "plt.xlabel('v_9')\n",
    "plt.ylabel('price')\n",
    "plt.legend(['True Price','Predicted Price'],loc='upper right')\n",
    "print('The predicted price seems normal after np.log transforming')\n",
    "plt.show()"
   ]
  },
  {
   "cell_type": "markdown",
   "metadata": {},
   "source": [
    "#### 4.4.2 - 2 五折交叉验证"
   ]
  },
  {
   "cell_type": "markdown",
   "metadata": {},
   "source": [
    "> 在使用训练集对参数进行训练的时候，经常会发现人们通常会将一整个训练集分为三个部分（比如mnist手写训练集）。一般分为：训练集（train_set），评估集（valid_set），测试集（test_set）这三个部分。这其实是为了保证训练效果而特意设置的。其中测试集很好理解，其实就是完全不参与训练的数据，仅仅用来观测测试效果的数据。而训练集和评估集则牵涉到下面的知识了。\n",
    "\n",
    ">因为在实际的训练中，训练的结果对于训练集的拟合程度通常还是挺好的（初始条件敏感），但是对于训练集之外的数据的拟合程度通常就不那么令人满意了。因此我们通常并不会把所有的数据集都拿来训练，而是分出一部分来（这一部分不参加训练）对训练集生成的参数进行测试，相对客观的判断这些参数对训练集之外的数据的符合程度。这种思想就称为交叉验证（Cross Validation）"
   ]
  },
  {
   "cell_type": "code",
   "execution_count": 41,
   "metadata": {},
   "outputs": [],
   "source": [
    "from sklearn.model_selection import cross_val_score\n",
    "from sklearn.metrics import mean_absolute_error,  make_scorer"
   ]
  },
  {
   "cell_type": "code",
   "execution_count": 42,
   "metadata": {},
   "outputs": [],
   "source": [
    "def log_transfer(func):\n",
    "    def wrapper(y, yhat):\n",
    "        result = func(np.log(y), np.nan_to_num(np.log(yhat)))\n",
    "        return result\n",
    "    return wrapper"
   ]
  },
  {
   "cell_type": "code",
   "execution_count": 43,
   "metadata": {},
   "outputs": [
    {
     "name": "stderr",
     "output_type": "stream",
     "text": [
      "[Parallel(n_jobs=1)]: Using backend SequentialBackend with 1 concurrent workers.\n",
      "[Parallel(n_jobs=1)]: Done   5 out of   5 | elapsed:    0.9s finished\n"
     ]
    }
   ],
   "source": [
    "scores = cross_val_score(model, X=train_X, y=train_y, verbose=1, cv = 5, scoring=make_scorer(log_transfer(mean_absolute_error)))"
   ]
  },
  {
   "cell_type": "markdown",
   "metadata": {},
   "source": [
    "使用线性回归模型，对未处理标签的特征数据进行五折交叉验证（Error 1.36）"
   ]
  },
  {
   "cell_type": "code",
   "execution_count": 44,
   "metadata": {},
   "outputs": [
    {
     "name": "stdout",
     "output_type": "stream",
     "text": [
      "AVG: 1.3658023920314064\n"
     ]
    }
   ],
   "source": [
    "print('AVG:', np.mean(scores))"
   ]
  },
  {
   "cell_type": "markdown",
   "metadata": {},
   "source": [
    "使用线性回归模型，对处理过标签的特征数据进行五折交叉验证（Error 0.19）"
   ]
  },
  {
   "cell_type": "code",
   "execution_count": 45,
   "metadata": {},
   "outputs": [
    {
     "name": "stderr",
     "output_type": "stream",
     "text": [
      "[Parallel(n_jobs=1)]: Using backend SequentialBackend with 1 concurrent workers.\n",
      "[Parallel(n_jobs=1)]: Done   5 out of   5 | elapsed:    1.1s finished\n"
     ]
    }
   ],
   "source": [
    "scores = cross_val_score(model, X=train_X, y=train_y_ln, verbose=1, cv = 5, scoring=make_scorer(mean_absolute_error))"
   ]
  },
  {
   "cell_type": "code",
   "execution_count": 46,
   "metadata": {},
   "outputs": [
    {
     "name": "stdout",
     "output_type": "stream",
     "text": [
      "AVG: 0.19325301837047434\n"
     ]
    }
   ],
   "source": [
    "print('AVG:', np.mean(scores))"
   ]
  },
  {
   "cell_type": "code",
   "execution_count": 47,
   "metadata": {},
   "outputs": [
    {
     "data": {
      "text/plain": [
       "array([0.19079177, 0.19375821, 0.194132  , 0.19182523, 0.19575788])"
      ]
     },
     "execution_count": 47,
     "metadata": {},
     "output_type": "execute_result"
    }
   ],
   "source": [
    "scores"
   ]
  },
  {
   "cell_type": "code",
   "execution_count": 48,
   "metadata": {},
   "outputs": [
    {
     "data": {
      "text/html": [
       "<div>\n",
       "<style scoped>\n",
       "    .dataframe tbody tr th:only-of-type {\n",
       "        vertical-align: middle;\n",
       "    }\n",
       "\n",
       "    .dataframe tbody tr th {\n",
       "        vertical-align: top;\n",
       "    }\n",
       "\n",
       "    .dataframe thead th {\n",
       "        text-align: right;\n",
       "    }\n",
       "</style>\n",
       "<table border=\"1\" class=\"dataframe\">\n",
       "  <thead>\n",
       "    <tr style=\"text-align: right;\">\n",
       "      <th></th>\n",
       "      <th>cv1</th>\n",
       "      <th>cv2</th>\n",
       "      <th>cv3</th>\n",
       "      <th>cv4</th>\n",
       "      <th>cv5</th>\n",
       "    </tr>\n",
       "  </thead>\n",
       "  <tbody>\n",
       "    <tr>\n",
       "      <th>MAE</th>\n",
       "      <td>0.190792</td>\n",
       "      <td>0.193758</td>\n",
       "      <td>0.194132</td>\n",
       "      <td>0.191825</td>\n",
       "      <td>0.195758</td>\n",
       "    </tr>\n",
       "  </tbody>\n",
       "</table>\n",
       "</div>"
      ],
      "text/plain": [
       "          cv1       cv2       cv3       cv4       cv5\n",
       "MAE  0.190792  0.193758  0.194132  0.191825  0.195758"
      ]
     },
     "execution_count": 48,
     "metadata": {},
     "output_type": "execute_result"
    }
   ],
   "source": [
    "scores = pd.DataFrame(scores.reshape(1,-1))\n",
    "scores.columns = ['cv' + str(x) for x in range(1, 6)]\n",
    "scores.index = ['MAE']\n",
    "scores"
   ]
  },
  {
   "cell_type": "markdown",
   "metadata": {},
   "source": [
    "#### 4.4.2 - 3 模拟真实业务情况"
   ]
  },
  {
   "cell_type": "markdown",
   "metadata": {},
   "source": [
    "但在事实上，由于我们并不具有预知未来的能力，五折交叉验证在某些与时间相关的数据集上反而反映了不真实的情况。通过2018年的二手车价格预测2017年的二手车价格，这显然是不合理的，因此我们还可以采用时间顺序对数据集进行分隔。在本例中，我们选用靠前时间的4/5样本当作训练集，靠后时间的1/5当作验证集，最终结果与五折交叉验证差距不大"
   ]
  },
  {
   "cell_type": "code",
   "execution_count": 49,
   "metadata": {},
   "outputs": [],
   "source": [
    "import datetime"
   ]
  },
  {
   "cell_type": "code",
   "execution_count": 50,
   "metadata": {},
   "outputs": [],
   "source": [
    "sample_feature = sample_feature.reset_index(drop=True)"
   ]
  },
  {
   "cell_type": "code",
   "execution_count": 51,
   "metadata": {},
   "outputs": [],
   "source": [
    "split_point = len(sample_feature) // 5 * 4"
   ]
  },
  {
   "cell_type": "code",
   "execution_count": 52,
   "metadata": {},
   "outputs": [],
   "source": [
    "train = sample_feature.loc[:split_point].dropna()\n",
    "val = sample_feature.loc[split_point:].dropna()\n",
    "\n",
    "train_X = train[continuous_feature_names]\n",
    "train_y_ln = np.log(train['price'] + 1)\n",
    "val_X = val[continuous_feature_names]\n",
    "val_y_ln = np.log(val['price'] + 1)"
   ]
  },
  {
   "cell_type": "code",
   "execution_count": 53,
   "metadata": {},
   "outputs": [],
   "source": [
    "model = model.fit(train_X, train_y_ln)"
   ]
  },
  {
   "cell_type": "code",
   "execution_count": 54,
   "metadata": {},
   "outputs": [
    {
     "data": {
      "text/plain": [
       "0.19577667270300955"
      ]
     },
     "execution_count": 54,
     "metadata": {},
     "output_type": "execute_result"
    }
   ],
   "source": [
    "mean_absolute_error(val_y_ln, model.predict(val_X))"
   ]
  },
  {
   "cell_type": "markdown",
   "metadata": {},
   "source": [
    "#### 4.4.2 - 4 绘制学习率曲线与验证曲线"
   ]
  },
  {
   "cell_type": "code",
   "execution_count": 55,
   "metadata": {},
   "outputs": [],
   "source": [
    "from sklearn.model_selection import learning_curve, validation_curve"
   ]
  },
  {
   "cell_type": "code",
   "execution_count": 56,
   "metadata": {},
   "outputs": [],
   "source": [
    "? learning_curve"
   ]
  },
  {
   "cell_type": "code",
   "execution_count": 57,
   "metadata": {},
   "outputs": [],
   "source": [
    "def plot_learning_curve(estimator, title, X, y, ylim=None, cv=None,n_jobs=1, train_size=np.linspace(.1, 1.0, 5 )):  \n",
    "    plt.figure()  \n",
    "    plt.title(title)  \n",
    "    if ylim is not None:  \n",
    "        plt.ylim(*ylim)  \n",
    "    plt.xlabel('Training example')  \n",
    "    plt.ylabel('score')  \n",
    "    train_sizes, train_scores, test_scores = learning_curve(estimator, X, y, cv=cv, n_jobs=n_jobs, train_sizes=train_size, scoring = make_scorer(mean_absolute_error))  \n",
    "    train_scores_mean = np.mean(train_scores, axis=1)  \n",
    "    train_scores_std = np.std(train_scores, axis=1)  \n",
    "    test_scores_mean = np.mean(test_scores, axis=1)  \n",
    "    test_scores_std = np.std(test_scores, axis=1)  \n",
    "    plt.grid()#区域  \n",
    "    plt.fill_between(train_sizes, train_scores_mean - train_scores_std,  \n",
    "                     train_scores_mean + train_scores_std, alpha=0.1,  \n",
    "                     color=\"r\")  \n",
    "    plt.fill_between(train_sizes, test_scores_mean - test_scores_std,  \n",
    "                     test_scores_mean + test_scores_std, alpha=0.1,  \n",
    "                     color=\"g\")  \n",
    "    plt.plot(train_sizes, train_scores_mean, 'o-', color='r',  \n",
    "             label=\"Training score\")  \n",
    "    plt.plot(train_sizes, test_scores_mean,'o-',color=\"g\",  \n",
    "             label=\"Cross-validation score\")  \n",
    "    plt.legend(loc=\"best\")  \n",
    "    return plt  "
   ]
  },
  {
   "cell_type": "code",
   "execution_count": 58,
   "metadata": {},
   "outputs": [
    {
     "data": {
      "text/plain": [
       "<module 'matplotlib.pyplot' from 'c:\\\\users\\\\admin\\\\anaconda3\\\\envs\\\\used_car\\\\lib\\\\site-packages\\\\matplotlib\\\\pyplot.py'>"
      ]
     },
     "execution_count": 58,
     "metadata": {},
     "output_type": "execute_result"
    },
    {
     "data": {
      "image/png": "[encoded data removed]",
      "text/plain": [
       "<Figure size 432x288 with 1 Axes>"
      ]
     },
     "metadata": {
      "needs_background": "light"
     },
     "output_type": "display_data"
    }
   ],
   "source": [
    "plot_learning_curve(LinearRegression(), 'Liner_model', train_X[:1000], train_y_ln[:1000], ylim=(0.0, 0.5), cv=5, n_jobs=1)  "
   ]
  },
  {
   "cell_type": "markdown",
   "metadata": {},
   "source": [
    "#### 4.4.3 多种模型对比"
   ]
  },
  {
   "cell_type": "code",
   "execution_count": 59,
   "metadata": {},
   "outputs": [],
   "source": [
    "train = sample_feature[continuous_feature_names + ['price']].dropna()\n",
    "\n",
    "train_X = train[continuous_feature_names]\n",
    "train_y = train['price']\n",
    "train_y_ln = np.log(train_y + 1)"
   ]
  },
  {
   "cell_type": "markdown",
   "metadata": {},
   "source": [
    "#### 4.4.3 - 1 线性模型 & 嵌入式特征选择"
   ]
  },
  {
   "cell_type": "markdown",
   "metadata": {},
   "source": [
    "本章节默认，学习者已经了解关于过拟合、模型复杂度、正则化等概念。否则请寻找相关资料或参考如下连接：\n",
    "\n",
    "  - 用简单易懂的语言描述「过拟合 overfitting」？ https://www.zhihu.com/question/32246256/answer/55320482\n",
    "  - 模型复杂度与模型的泛化能力 http://yangyingming.com/article/434/\n",
    "  - 正则化的直观理解 https://blog.csdn.net/jinping_shi/article/details/52433975"
   ]
  },
  {
   "cell_type": "markdown",
   "metadata": {},
   "source": [
    "在过滤式和包裹式特征选择方法中，特征选择过程与学习器训练过程有明显的分别。而嵌入式特征选择在学习器训练过程中自动地进行特征选择。嵌入式选择最常用的是L1正则化与L2正则化。在对线性回归模型加入两种正则化方法后，他们分别变成了岭回归与Lasso回归。"
   ]
  },
  {
   "cell_type": "code",
   "execution_count": 60,
   "metadata": {},
   "outputs": [],
   "source": [
    "from sklearn.linear_model import LinearRegression\n",
    "from sklearn.linear_model import Ridge\n",
    "from sklearn.linear_model import Lasso"
   ]
  },
  {
   "cell_type": "code",
   "execution_count": 61,
   "metadata": {},
   "outputs": [],
   "source": [
    "models = [LinearRegression(),\n",
    "          Ridge(),\n",
    "          Lasso()]"
   ]
  },
  {
   "cell_type": "code",
   "execution_count": 62,
   "metadata": {},
   "outputs": [
    {
     "name": "stdout",
     "output_type": "stream",
     "text": [
      "LinearRegression is finished\n",
      "Ridge is finished\n",
      "Lasso is finished\n"
     ]
    }
   ],
   "source": [
    "result = dict()\n",
    "for model in models:\n",
    "    model_name = str(model).split('(')[0]\n",
    "    scores = cross_val_score(model, X=train_X, y=train_y_ln, verbose=0, cv = 5, scoring=make_scorer(mean_absolute_error))\n",
    "    result[model_name] = scores\n",
    "    print(model_name + ' is finished')"
   ]
  },
  {
   "cell_type": "markdown",
   "metadata": {},
   "source": [
    "对三种方法的效果对比"
   ]
  },
  {
   "cell_type": "code",
   "execution_count": 63,
   "metadata": {},
   "outputs": [
    {
     "data": {
      "text/html": [
       "<div>\n",
       "<style scoped>\n",
       "    .dataframe tbody tr th:only-of-type {\n",
       "        vertical-align: middle;\n",
       "    }\n",
       "\n",
       "    .dataframe tbody tr th {\n",
       "        vertical-align: top;\n",
       "    }\n",
       "\n",
       "    .dataframe thead th {\n",
       "        text-align: right;\n",
       "    }\n",
       "</style>\n",
       "<table border=\"1\" class=\"dataframe\">\n",
       "  <thead>\n",
       "    <tr style=\"text-align: right;\">\n",
       "      <th></th>\n",
       "      <th>LinearRegression</th>\n",
       "      <th>Ridge</th>\n",
       "      <th>Lasso</th>\n",
       "    </tr>\n",
       "  </thead>\n",
       "  <tbody>\n",
       "    <tr>\n",
       "      <th>cv1</th>\n",
       "      <td>0.190792</td>\n",
       "      <td>0.194832</td>\n",
       "      <td>0.383899</td>\n",
       "    </tr>\n",
       "    <tr>\n",
       "      <th>cv2</th>\n",
       "      <td>0.193758</td>\n",
       "      <td>0.197632</td>\n",
       "      <td>0.381893</td>\n",
       "    </tr>\n",
       "    <tr>\n",
       "      <th>cv3</th>\n",
       "      <td>0.194132</td>\n",
       "      <td>0.198123</td>\n",
       "      <td>0.384090</td>\n",
       "    </tr>\n",
       "    <tr>\n",
       "      <th>cv4</th>\n",
       "      <td>0.191825</td>\n",
       "      <td>0.195670</td>\n",
       "      <td>0.380526</td>\n",
       "    </tr>\n",
       "    <tr>\n",
       "      <th>cv5</th>\n",
       "      <td>0.195758</td>\n",
       "      <td>0.199676</td>\n",
       "      <td>0.383611</td>\n",
       "    </tr>\n",
       "  </tbody>\n",
       "</table>\n",
       "</div>"
      ],
      "text/plain": [
       "     LinearRegression     Ridge     Lasso\n",
       "cv1          0.190792  0.194832  0.383899\n",
       "cv2          0.193758  0.197632  0.381893\n",
       "cv3          0.194132  0.198123  0.384090\n",
       "cv4          0.191825  0.195670  0.380526\n",
       "cv5          0.195758  0.199676  0.383611"
      ]
     },
     "execution_count": 63,
     "metadata": {},
     "output_type": "execute_result"
    }
   ],
   "source": [
    "result = pd.DataFrame(result)\n",
    "result.index = ['cv' + str(x) for x in range(1, 6)]\n",
    "result"
   ]
  },
  {
   "cell_type": "code",
   "execution_count": 64,
   "metadata": {},
   "outputs": [
    {
     "name": "stdout",
     "output_type": "stream",
     "text": [
      "intercept:18.750417086915647\n"
     ]
    },
    {
     "data": {
      "text/plain": [
       "<matplotlib.axes._subplots.AxesSubplot at 0x1ea0065a518>"
      ]
     },
     "execution_count": 64,
     "metadata": {},
     "output_type": "execute_result"
    },
    {
     "data": {
      "image/png": "[encoded data removed]",
      "text/plain": [
       "<Figure size 432x288 with 1 Axes>"
      ]
     },
     "metadata": {
      "needs_background": "light"
     },
     "output_type": "display_data"
    }
   ],
   "source": [
    "model = LinearRegression().fit(train_X, train_y_ln)\n",
    "print('intercept:'+ str(model.intercept_))\n",
    "sns.barplot(abs(model.coef_), continuous_feature_names)"
   ]
  },
  {
   "cell_type": "markdown",
   "metadata": {},
   "source": [
    "L2正则化在拟合过程中通常都倾向于让权值尽可能小，最后构造一个所有参数都比较小的模型。因为一般认为参数值小的模型比较简单，能适应不同的数据集，也在一定程度上避免了过拟合现象。可以设想一下对于一个线性回归方程，若参数很大，那么只要数据偏移一点点，就会对结果造成很大的影响；但如果参数足够小，数据偏移得多一点也不会对结果造成什么影响，专业一点的说法是『抗扰动能力强』"
   ]
  },
  {
   "cell_type": "code",
   "execution_count": 65,
   "metadata": {
    "scrolled": true
   },
   "outputs": [
    {
     "name": "stdout",
     "output_type": "stream",
     "text": [
      "intercept:4.671709787512927\n"
     ]
    },
    {
     "data": {
      "text/plain": [
       "<matplotlib.axes._subplots.AxesSubplot at 0x1ea00386710>"
      ]
     },
     "execution_count": 65,
     "metadata": {},
     "output_type": "execute_result"
    },
    {
     "data": {
      "image/png": "[encoded data removed]",
      "text/plain": [
       "<Figure size 432x288 with 1 Axes>"
      ]
     },
     "metadata": {
      "needs_background": "light"
     },
     "output_type": "display_data"
    }
   ],
   "source": [
    "model = Ridge().fit(train_X, train_y_ln)\n",
    "print('intercept:'+ str(model.intercept_))\n",
    "sns.barplot(abs(model.coef_), continuous_feature_names)"
   ]
  },
  {
   "cell_type": "markdown",
   "metadata": {},
   "source": [
    "L1正则化有助于生成一个稀疏权值矩阵，进而可以用于特征选择。如下图，我们发现power与used_time特征非常重要。"
   ]
  },
  {
   "cell_type": "code",
   "execution_count": 67,
   "metadata": {},
   "outputs": [
    {
     "name": "stdout",
     "output_type": "stream",
     "text": [
      "intercept:8.672182402894254\n"
     ]
    },
    {
     "data": {
      "text/plain": [
       "<matplotlib.axes._subplots.AxesSubplot at 0x1ea0048c320>"
      ]
     },
     "execution_count": 67,
     "metadata": {},
     "output_type": "execute_result"
    },
    {
     "data": {
      "image/png": "[encoded data removed]",
      "text/plain": [
       "<Figure size 432x288 with 1 Axes>"
      ]
     },
     "metadata": {
      "needs_background": "light"
     },
     "output_type": "display_data"
    }
   ],
   "source": [
    "model = Lasso().fit(train_X, train_y_ln)\n",
    "print('intercept:'+ str(model.intercept_))\n",
    "sns.barplot(abs(model.coef_), continuous_feature_names)"
   ]
  },
  {
   "cell_type": "markdown",
   "metadata": {},
   "source": [
    "除此之外，决策树通过信息熵或GINI指数选择分裂节点时，优先选择的分裂特征也更加重要，这同样是一种特征选择的方法。XGBoost与LightGBM模型中的model_importance指标正是基于此计算的"
   ]
  },
  {
   "cell_type": "markdown",
   "metadata": {},
   "source": [
    "#### 4.4.3 - 2 非线性模型"
   ]
  },
  {
   "cell_type": "markdown",
   "metadata": {},
   "source": [
    "除了线性模型以外，还有许多我们常用的非线性模型如下，在此篇幅有限不再一一讲解原理。我们选择了部分常用模型与线性模型进行效果比对。"
   ]
  },
  {
   "cell_type": "code",
   "execution_count": 70,
   "metadata": {},
   "outputs": [],
   "source": [
    "from sklearn.linear_model import LinearRegression\n",
    "from sklearn.svm import SVC\n",
    "from sklearn.tree import DecisionTreeRegressor\n",
    "from sklearn.ensemble import RandomForestRegressor\n",
    "from sklearn.ensemble import GradientBoostingRegressor\n",
    "from sklearn.neural_network import MLPRegressor\n",
    "from xgboost.sklearn import XGBRegressor\n",
    "from lightgbm.sklearn import LGBMRegressor"
   ]
  },
  {
   "cell_type": "code",
   "execution_count": 72,
   "metadata": {},
   "outputs": [],
   "source": [
    "models = [LinearRegression(),\n",
    "          DecisionTreeRegressor(),\n",
    "          RandomForestRegressor(),\n",
    "          GradientBoostingRegressor(),\n",
    "          MLPRegressor(solver='lbfgs', max_iter=100), \n",
    "          XGBRegressor(n_estimators = 100, objective='reg:squarederror'), \n",
    "          LGBMRegressor(n_estimators = 100)]"
   ]
  },
  {
   "cell_type": "code",
   "execution_count": 74,
   "metadata": {},
   "outputs": [
    {
     "name": "stdout",
     "output_type": "stream",
     "text": [
      "LinearRegression is finished\n",
      "DecisionTreeRegressor is finished\n",
      "RandomForestRegressor is finished\n",
      "GradientBoostingRegressor is finished\n",
      "MLPRegressor is finished\n",
      "XGBRegressor is finished\n",
      "LGBMRegressor is finished\n"
     ]
    }
   ],
   "source": [
    "result = dict()\n",
    "for model in models:\n",
    "    model_name = str(model).split('(')[0]\n",
    "    scores = cross_val_score(model, X=train_X, y=train_y_ln, verbose=0, cv = 5, scoring=make_scorer(mean_absolute_error))\n",
    "    result[model_name] = scores\n",
    "    print(model_name + ' is finished')"
   ]
  },
  {
   "cell_type": "code",
   "execution_count": 75,
   "metadata": {},
   "outputs": [
    {
     "data": {
      "text/plain": [
       "{'LinearRegression': array([0.19079177, 0.19375821, 0.194132  , 0.19182523, 0.19575788]),\n",
       " 'DecisionTreeRegressor': array([0.1982057 , 0.19256385, 0.19086286, 0.19056209, 0.20663404]),\n",
       " 'RandomForestRegressor': array([0.1324685 , 0.1350402 , 0.13352892, 0.13277665, 0.13693753]),\n",
       " 'GradientBoostingRegressor': array([0.16889734, 0.17185025, 0.17088592, 0.16906366, 0.17407194]),\n",
       " 'MLPRegressor': array([679.72549457, 306.20833191, 641.96619075, 323.8599762 ,\n",
       "        243.81242796]),\n",
       " 'XGBRegressor': array([0.14233316, 0.14098739, 0.13926624, 0.13739862, 0.14399824]),\n",
       " 'LGBMRegressor': array([0.14154606, 0.14550104, 0.14388693, 0.14249656, 0.14485158])}"
      ]
     },
     "execution_count": 75,
     "metadata": {},
     "output_type": "execute_result"
    }
   ],
   "source": [
    "result"
   ]
  },
  {
   "cell_type": "code",
   "execution_count": 76,
   "metadata": {},
   "outputs": [
    {
     "data": {
      "text/html": [
       "<div>\n",
       "<style scoped>\n",
       "    .dataframe tbody tr th:only-of-type {\n",
       "        vertical-align: middle;\n",
       "    }\n",
       "\n",
       "    .dataframe tbody tr th {\n",
       "        vertical-align: top;\n",
       "    }\n",
       "\n",
       "    .dataframe thead th {\n",
       "        text-align: right;\n",
       "    }\n",
       "</style>\n",
       "<table border=\"1\" class=\"dataframe\">\n",
       "  <thead>\n",
       "    <tr style=\"text-align: right;\">\n",
       "      <th></th>\n",
       "      <th>LinearRegression</th>\n",
       "      <th>DecisionTreeRegressor</th>\n",
       "      <th>RandomForestRegressor</th>\n",
       "      <th>GradientBoostingRegressor</th>\n",
       "      <th>MLPRegressor</th>\n",
       "      <th>XGBRegressor</th>\n",
       "      <th>LGBMRegressor</th>\n",
       "    </tr>\n",
       "  </thead>\n",
       "  <tbody>\n",
       "    <tr>\n",
       "      <th>cv1</th>\n",
       "      <td>0.190792</td>\n",
       "      <td>0.198206</td>\n",
       "      <td>0.132469</td>\n",
       "      <td>0.168897</td>\n",
       "      <td>679.725495</td>\n",
       "      <td>0.142333</td>\n",
       "      <td>0.141546</td>\n",
       "    </tr>\n",
       "    <tr>\n",
       "      <th>cv2</th>\n",
       "      <td>0.193758</td>\n",
       "      <td>0.192564</td>\n",
       "      <td>0.135040</td>\n",
       "      <td>0.171850</td>\n",
       "      <td>306.208332</td>\n",
       "      <td>0.140987</td>\n",
       "      <td>0.145501</td>\n",
       "    </tr>\n",
       "    <tr>\n",
       "      <th>cv3</th>\n",
       "      <td>0.194132</td>\n",
       "      <td>0.190863</td>\n",
       "      <td>0.133529</td>\n",
       "      <td>0.170886</td>\n",
       "      <td>641.966191</td>\n",
       "      <td>0.139266</td>\n",
       "      <td>0.143887</td>\n",
       "    </tr>\n",
       "    <tr>\n",
       "      <th>cv4</th>\n",
       "      <td>0.191825</td>\n",
       "      <td>0.190562</td>\n",
       "      <td>0.132777</td>\n",
       "      <td>0.169064</td>\n",
       "      <td>323.859976</td>\n",
       "      <td>0.137399</td>\n",
       "      <td>0.142497</td>\n",
       "    </tr>\n",
       "    <tr>\n",
       "      <th>cv5</th>\n",
       "      <td>0.195758</td>\n",
       "      <td>0.206634</td>\n",
       "      <td>0.136938</td>\n",
       "      <td>0.174072</td>\n",
       "      <td>243.812428</td>\n",
       "      <td>0.143998</td>\n",
       "      <td>0.144852</td>\n",
       "    </tr>\n",
       "  </tbody>\n",
       "</table>\n",
       "</div>"
      ],
      "text/plain": [
       "     LinearRegression  DecisionTreeRegressor  RandomForestRegressor  \\\n",
       "cv1          0.190792               0.198206               0.132469   \n",
       "cv2          0.193758               0.192564               0.135040   \n",
       "cv3          0.194132               0.190863               0.133529   \n",
       "cv4          0.191825               0.190562               0.132777   \n",
       "cv5          0.195758               0.206634               0.136938   \n",
       "\n",
       "     GradientBoostingRegressor  MLPRegressor  XGBRegressor  LGBMRegressor  \n",
       "cv1                   0.168897    679.725495      0.142333       0.141546  \n",
       "cv2                   0.171850    306.208332      0.140987       0.145501  \n",
       "cv3                   0.170886    641.966191      0.139266       0.143887  \n",
       "cv4                   0.169064    323.859976      0.137399       0.142497  \n",
       "cv5                   0.174072    243.812428      0.143998       0.144852  "
      ]
     },
     "execution_count": 76,
     "metadata": {},
     "output_type": "execute_result"
    }
   ],
   "source": [
    "result = pd.DataFrame(result)\n",
    "result.index = ['cv' + str(x) for x in range(1, 6)]\n",
    "result"
   ]
  },
  {
   "cell_type": "markdown",
   "metadata": {},
   "source": [
    "可以看到随机森林模型在每一个fold中均取得了更好的效果"
   ]
  },
  {
   "cell_type": "markdown",
   "metadata": {},
   "source": [
    "#### 4.4.4  模型调参"
   ]
  },
  {
   "cell_type": "markdown",
   "metadata": {},
   "source": [
    "在此我们介绍了三种常用的调参方法如下：\n",
    "\n",
    "  - 贪心算法 https://www.jianshu.com/p/ab89df9759c8\n",
    "  - 网格调参 https://blog.csdn.net/weixin_43172660/article/details/83032029\n",
    "  - 贝叶斯调参 https://blog.csdn.net/linxid/article/details/81189154"
   ]
  },
  {
   "cell_type": "code",
   "execution_count": 77,
   "metadata": {},
   "outputs": [],
   "source": [
    "## LGB的参数集合：\n",
    "\n",
    "objective = ['regression', 'regression_l1', 'mape', 'huber', 'fair']\n",
    "\n",
    "num_leaves = [3,5,10,15,20,40, 55]\n",
    "max_depth = [3,5,10,15,20,40, 55]\n",
    "bagging_fraction = []\n",
    "feature_fraction = []\n",
    "drop_rate = []"
   ]
  },
  {
   "cell_type": "markdown",
   "metadata": {},
   "source": [
    "#### 4.4.4 - 1 贪心调参"
   ]
  },
  {
   "cell_type": "code",
   "execution_count": 78,
   "metadata": {},
   "outputs": [],
   "source": [
    "best_obj = dict()\n",
    "for obj in objective:\n",
    "    model = LGBMRegressor(objective=obj)\n",
    "    score = np.mean(cross_val_score(model, X=train_X, y=train_y_ln, verbose=0, cv = 5, scoring=make_scorer(mean_absolute_error)))\n",
    "    best_obj[obj] = score\n",
    "    \n",
    "best_leaves = dict()\n",
    "for leaves in num_leaves:\n",
    "    model = LGBMRegressor(objective=min(best_obj.items(), key=lambda x:x[1])[0], num_leaves=leaves)\n",
    "    score = np.mean(cross_val_score(model, X=train_X, y=train_y_ln, verbose=0, cv = 5, scoring=make_scorer(mean_absolute_error)))\n",
    "    best_leaves[leaves] = score\n",
    "    \n",
    "best_depth = dict()\n",
    "for depth in max_depth:\n",
    "    model = LGBMRegressor(objective=min(best_obj.items(), key=lambda x:x[1])[0],\n",
    "                          num_leaves=min(best_leaves.items(), key=lambda x:x[1])[0],\n",
    "                          max_depth=depth)\n",
    "    score = np.mean(cross_val_score(model, X=train_X, y=train_y_ln, verbose=0, cv = 5, scoring=make_scorer(mean_absolute_error)))\n",
    "    best_depth[depth] = score"
   ]
  },
  {
   "cell_type": "code",
   "execution_count": 79,
   "metadata": {},
   "outputs": [
    {
     "data": {
      "text/plain": [
       "<matplotlib.axes._subplots.AxesSubplot at 0x1ea067236a0>"
      ]
     },
     "execution_count": 79,
     "metadata": {},
     "output_type": "execute_result"
    },
    {
     "data": {
      "image/png": "[encoded data removed]",
      "text/plain": [
       "<Figure size 432x288 with 1 Axes>"
      ]
     },
     "metadata": {
      "needs_background": "light"
     },
     "output_type": "display_data"
    }
   ],
   "source": [
    "sns.lineplot(x=['0_initial','1_turning_obj','2_turning_leaves','3_turning_depth'], y=[0.143 ,min(best_obj.values()), min(best_leaves.values()), min(best_depth.values())])"
   ]
  },
  {
   "cell_type": "markdown",
   "metadata": {},
   "source": [
    "#### 4.4.4 - 2 Grid Search 调参"
   ]
  },
  {
   "cell_type": "code",
   "execution_count": 80,
   "metadata": {},
   "outputs": [],
   "source": [
    "from sklearn.model_selection import GridSearchCV"
   ]
  },
  {
   "cell_type": "code",
   "execution_count": 81,
   "metadata": {},
   "outputs": [],
   "source": [
    "parameters = {'objective': objective , 'num_leaves': num_leaves, 'max_depth': max_depth}\n",
    "model = LGBMRegressor()\n",
    "clf = GridSearchCV(model, parameters, cv=5)\n",
    "clf = clf.fit(train_X, train_y)"
   ]
  },
  {
   "cell_type": "code",
   "execution_count": 82,
   "metadata": {},
   "outputs": [
    {
     "data": {
      "text/plain": [
       "{'max_depth': 15, 'num_leaves': 55, 'objective': 'regression'}"
      ]
     },
     "execution_count": 82,
     "metadata": {},
     "output_type": "execute_result"
    }
   ],
   "source": [
    "clf.best_params_"
   ]
  },
  {
   "cell_type": "code",
   "execution_count": 83,
   "metadata": {},
   "outputs": [],
   "source": [
    "model = LGBMRegressor(objective='regression',\n",
    "                          num_leaves=55,\n",
    "                          max_depth=15)"
   ]
  },
  {
   "cell_type": "code",
   "execution_count": 84,
   "metadata": {},
   "outputs": [
    {
     "data": {
      "text/plain": [
       "0.13754820909576437"
      ]
     },
     "execution_count": 84,
     "metadata": {},
     "output_type": "execute_result"
    }
   ],
   "source": [
    "np.mean(cross_val_score(model, X=train_X, y=train_y_ln, verbose=0, cv = 5, scoring=make_scorer(mean_absolute_error)))"
   ]
  },
  {
   "cell_type": "markdown",
   "metadata": {},
   "source": [
    "#### 4.4.4 - 3 贝叶斯调参"
   ]
  },
  {
   "cell_type": "code",
   "execution_count": 87,
   "metadata": {},
   "outputs": [],
   "source": [
    "from bayes_opt import BayesianOptimization"
   ]
  },
  {
   "cell_type": "code",
   "execution_count": 88,
   "metadata": {},
   "outputs": [],
   "source": [
    "def rf_cv(num_leaves, max_depth, subsample, min_child_samples):\n",
    "    val = cross_val_score(\n",
    "        LGBMRegressor(objective = 'regression_l1',\n",
    "            num_leaves=int(num_leaves),\n",
    "            max_depth=int(max_depth),\n",
    "            subsample = subsample,\n",
    "            min_child_samples = int(min_child_samples)\n",
    "        ),\n",
    "        X=train_X, y=train_y_ln, verbose=0, cv = 5, scoring=make_scorer(mean_absolute_error)\n",
    "    ).mean()\n",
    "    return 1 - val"
   ]
  },
  {
   "cell_type": "code",
   "execution_count": 89,
   "metadata": {},
   "outputs": [],
   "source": [
    "rf_bo = BayesianOptimization(\n",
    "    rf_cv,\n",
    "    {\n",
    "    'num_leaves': (2, 100),\n",
    "    'max_depth': (2, 100),\n",
    "    'subsample': (0.1, 1),\n",
    "    'min_child_samples' : (2, 100)\n",
    "    }\n",
    ")"
   ]
  },
  {
   "cell_type": "code",
   "execution_count": 90,
   "metadata": {},
   "outputs": [
    {
     "name": "stdout",
     "output_type": "stream",
     "text": [
      "|   iter    |  target   | max_depth | min_ch... | num_le... | subsample |\n",
      "-------------------------------------------------------------------------\n",
      "| \u001b[0m 1       \u001b[0m | \u001b[0m 0.8273  \u001b[0m | \u001b[0m 56.17   \u001b[0m | \u001b[0m 17.35   \u001b[0m | \u001b[0m 6.823   \u001b[0m | \u001b[0m 0.8486  \u001b[0m |\n",
      "| \u001b[95m 2       \u001b[0m | \u001b[95m 0.8571  \u001b[0m | \u001b[95m 63.36   \u001b[0m | \u001b[95m 77.9    \u001b[0m | \u001b[95m 30.18   \u001b[0m | \u001b[95m 0.6484  \u001b[0m |\n",
      "| \u001b[0m 3       \u001b[0m | \u001b[0m 0.8063  \u001b[0m | \u001b[0m 2.762   \u001b[0m | \u001b[0m 23.25   \u001b[0m | \u001b[0m 34.09   \u001b[0m | \u001b[0m 0.3405  \u001b[0m |\n",
      "| \u001b[95m 4       \u001b[0m | \u001b[95m 0.864   \u001b[0m | \u001b[95m 11.9    \u001b[0m | \u001b[95m 6.712   \u001b[0m | \u001b[95m 55.97   \u001b[0m | \u001b[95m 0.7736  \u001b[0m |\n",
      "| \u001b[95m 5       \u001b[0m | \u001b[95m 0.8656  \u001b[0m | \u001b[95m 95.99   \u001b[0m | \u001b[95m 49.96   \u001b[0m | \u001b[95m 62.39   \u001b[0m | \u001b[95m 0.44    \u001b[0m |\n",
      "| \u001b[0m 6       \u001b[0m | \u001b[0m 0.8062  \u001b[0m | \u001b[0m 2.0     \u001b[0m | \u001b[0m 100.0   \u001b[0m | \u001b[0m 100.0   \u001b[0m | \u001b[0m 1.0     \u001b[0m |\n",
      "| \u001b[95m 7       \u001b[0m | \u001b[95m 0.8691  \u001b[0m | \u001b[95m 100.0   \u001b[0m | \u001b[95m 2.0     \u001b[0m | \u001b[95m 100.0   \u001b[0m | \u001b[95m 1.0     \u001b[0m |\n",
      "| \u001b[0m 8       \u001b[0m | \u001b[0m 0.8119  \u001b[0m | \u001b[0m 96.08   \u001b[0m | \u001b[0m 99.98   \u001b[0m | \u001b[0m 4.589   \u001b[0m | \u001b[0m 0.9976  \u001b[0m |\n",
      "| \u001b[0m 9       \u001b[0m | \u001b[0m 0.869   \u001b[0m | \u001b[0m 97.58   \u001b[0m | \u001b[0m 99.66   \u001b[0m | \u001b[0m 99.58   \u001b[0m | \u001b[0m 0.2671  \u001b[0m |\n",
      "| \u001b[0m 10      \u001b[0m | \u001b[0m 0.8654  \u001b[0m | \u001b[0m 94.18   \u001b[0m | \u001b[0m 46.73   \u001b[0m | \u001b[0m 61.08   \u001b[0m | \u001b[0m 0.7279  \u001b[0m |\n",
      "| \u001b[95m 11      \u001b[0m | \u001b[95m 0.8692  \u001b[0m | \u001b[95m 41.89   \u001b[0m | \u001b[95m 16.5    \u001b[0m | \u001b[95m 99.84   \u001b[0m | \u001b[95m 0.2798  \u001b[0m |\n",
      "| \u001b[0m 12      \u001b[0m | \u001b[0m 0.8654  \u001b[0m | \u001b[0m 56.83   \u001b[0m | \u001b[0m 2.599   \u001b[0m | \u001b[0m 60.7    \u001b[0m | \u001b[0m 0.1003  \u001b[0m |\n",
      "| \u001b[0m 13      \u001b[0m | \u001b[0m 0.8063  \u001b[0m | \u001b[0m 2.382   \u001b[0m | \u001b[0m 4.997   \u001b[0m | \u001b[0m 97.7    \u001b[0m | \u001b[0m 0.736   \u001b[0m |\n",
      "| \u001b[95m 14      \u001b[0m | \u001b[95m 0.8694  \u001b[0m | \u001b[95m 60.95   \u001b[0m | \u001b[95m 76.66   \u001b[0m | \u001b[95m 99.17   \u001b[0m | \u001b[95m 0.7994  \u001b[0m |\n",
      "| \u001b[0m 15      \u001b[0m | \u001b[0m 0.8119  \u001b[0m | \u001b[0m 98.72   \u001b[0m | \u001b[0m 2.179   \u001b[0m | \u001b[0m 4.349   \u001b[0m | \u001b[0m 0.8145  \u001b[0m |\n",
      "| \u001b[0m 16      \u001b[0m | \u001b[0m 0.8657  \u001b[0m | \u001b[0m 68.48   \u001b[0m | \u001b[0m 99.67   \u001b[0m | \u001b[0m 65.51   \u001b[0m | \u001b[0m 0.9064  \u001b[0m |\n",
      "| \u001b[0m 17      \u001b[0m | \u001b[0m 0.8667  \u001b[0m | \u001b[0m 35.1    \u001b[0m | \u001b[0m 42.35   \u001b[0m | \u001b[0m 69.59   \u001b[0m | \u001b[0m 0.9872  \u001b[0m |\n",
      "| \u001b[0m 18      \u001b[0m | \u001b[0m 0.8693  \u001b[0m | \u001b[0m 91.67   \u001b[0m | \u001b[0m 47.7    \u001b[0m | \u001b[0m 99.42   \u001b[0m | \u001b[0m 0.719   \u001b[0m |\n",
      "| \u001b[0m 19      \u001b[0m | \u001b[0m 0.8636  \u001b[0m | \u001b[0m 99.53   \u001b[0m | \u001b[0m 82.17   \u001b[0m | \u001b[0m 51.89   \u001b[0m | \u001b[0m 0.7724  \u001b[0m |\n",
      "| \u001b[0m 20      \u001b[0m | \u001b[0m 0.8688  \u001b[0m | \u001b[0m 57.9    \u001b[0m | \u001b[0m 3.284   \u001b[0m | \u001b[0m 95.7    \u001b[0m | \u001b[0m 0.8199  \u001b[0m |\n",
      "| \u001b[0m 21      \u001b[0m | \u001b[0m 0.8661  \u001b[0m | \u001b[0m 35.2    \u001b[0m | \u001b[0m 4.95    \u001b[0m | \u001b[0m 67.87   \u001b[0m | \u001b[0m 0.8594  \u001b[0m |\n",
      "| \u001b[0m 22      \u001b[0m | \u001b[0m 0.8682  \u001b[0m | \u001b[0m 60.06   \u001b[0m | \u001b[0m 35.08   \u001b[0m | \u001b[0m 87.57   \u001b[0m | \u001b[0m 0.1048  \u001b[0m |\n",
      "| \u001b[0m 23      \u001b[0m | \u001b[0m 0.8573  \u001b[0m | \u001b[0m 33.93   \u001b[0m | \u001b[0m 2.09    \u001b[0m | \u001b[0m 30.31   \u001b[0m | \u001b[0m 0.5996  \u001b[0m |\n",
      "| \u001b[0m 24      \u001b[0m | \u001b[0m 0.8693  \u001b[0m | \u001b[0m 55.58   \u001b[0m | \u001b[0m 98.62   \u001b[0m | \u001b[0m 98.05   \u001b[0m | \u001b[0m 0.358   \u001b[0m |\n",
      "| \u001b[0m 25      \u001b[0m | \u001b[0m 0.8548  \u001b[0m | \u001b[0m 98.9    \u001b[0m | \u001b[0m 50.03   \u001b[0m | \u001b[0m 25.58   \u001b[0m | \u001b[0m 0.3343  \u001b[0m |\n",
      "| \u001b[0m 26      \u001b[0m | \u001b[0m 0.8642  \u001b[0m | \u001b[0m 70.67   \u001b[0m | \u001b[0m 65.21   \u001b[0m | \u001b[0m 55.13   \u001b[0m | \u001b[0m 0.1286  \u001b[0m |\n",
      "| \u001b[0m 27      \u001b[0m | \u001b[0m 0.8656  \u001b[0m | \u001b[0m 33.03   \u001b[0m | \u001b[0m 99.99   \u001b[0m | \u001b[0m 63.09   \u001b[0m | \u001b[0m 0.1608  \u001b[0m |\n",
      "| \u001b[0m 28      \u001b[0m | \u001b[0m 0.8642  \u001b[0m | \u001b[0m 99.85   \u001b[0m | \u001b[0m 4.84    \u001b[0m | \u001b[0m 55.43   \u001b[0m | \u001b[0m 0.5098  \u001b[0m |\n",
      "| \u001b[0m 29      \u001b[0m | \u001b[0m 0.8692  \u001b[0m | \u001b[0m 34.91   \u001b[0m | \u001b[0m 66.04   \u001b[0m | \u001b[0m 98.99   \u001b[0m | \u001b[0m 0.2066  \u001b[0m |\n",
      "| \u001b[95m 30      \u001b[0m | \u001b[95m 0.8695  \u001b[0m | \u001b[95m 86.59   \u001b[0m | \u001b[95m 14.81   \u001b[0m | \u001b[95m 99.89   \u001b[0m | \u001b[95m 0.1543  \u001b[0m |\n",
      "=========================================================================\n"
     ]
    }
   ],
   "source": [
    "rf_bo.maximize()"
   ]
  },
  {
   "cell_type": "code",
   "execution_count": 91,
   "metadata": {},
   "outputs": [
    {
     "data": {
      "text/plain": [
       "0.1305403212134959"
      ]
     },
     "execution_count": 91,
     "metadata": {},
     "output_type": "execute_result"
    }
   ],
   "source": [
    "1 - rf_bo.max['target']"
   ]
  },
  {
   "cell_type": "markdown",
   "metadata": {},
   "source": [
    "## 总结"
   ]
  },
  {
   "cell_type": "markdown",
   "metadata": {},
   "source": [
    "在本章中，我们完成了建模与调参的工作，并对我们的模型进行了验证。此外，我们还采用了一些基本方法来提高预测的精度，提升如下图所示。"
   ]
  },
  {
   "cell_type": "code",
   "execution_count": 92,
   "metadata": {},
   "outputs": [
    {
     "data": {
      "text/plain": [
       "<matplotlib.axes._subplots.AxesSubplot at 0x1ea06712f28>"
      ]
     },
     "execution_count": 92,
     "metadata": {},
     "output_type": "execute_result"
    },
    {
     "data": {
      "image/png": "[encoded data removed]",
      "text/plain": [
       "<Figure size 936x360 with 1 Axes>"
      ]
     },
     "metadata": {
      "needs_background": "light"
     },
     "output_type": "display_data"
    }
   ],
   "source": [
    "plt.figure(figsize=(13,5))\n",
    "sns.lineplot(x=['0_origin','1_log_transfer','2_L1_&_L2','3_change_model','4_parameter_turning'], y=[1.36 ,0.19, 0.19, 0.14, 0.13])"
   ]
  },
  {
   "cell_type": "code",
   "execution_count": null,
   "metadata": {},
   "outputs": [],
   "source": []
  }
 ],
 "metadata": {
  "kernelspec": {
   "display_name": "Python 3",
   "language": "python",
   "name": "python3"
  },
  "language_info": {
   "codemirror_mode": {
    "name": "ipython",
    "version": 3
   },
   "file_extension": ".py",
   "mimetype": "text/x-python",
   "name": "python",
   "nbconvert_exporter": "python",
   "pygments_lexer": "ipython3",
   "version": "3.6.10"
  }
 },
 "nbformat": 4,
 "nbformat_minor": 2
}
